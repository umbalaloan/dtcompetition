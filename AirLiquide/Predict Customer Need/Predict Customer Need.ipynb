{
 "cells": [
  {
   "cell_type": "markdown",
   "metadata": {},
   "source": [
    "## This is Airliquide project \"Predict Customer Needs\""
   ]
  },
  {
   "cell_type": "markdown",
   "metadata": {},
   "source": [
    "### Objective:\n",
    "Predict the liquefied gas consumption of our bulk customers using past consumption and features such as market, localization, turnover and external data"
   ]
  },
  {
   "cell_type": "markdown",
   "metadata": {},
   "source": [
    "### Data Description\n",
    "ID : identification of the customer <br>\n",
    "GAS: gas used by the customer . Can be: <br>\n",
    "         * Ox (oxygen), CB (CO2), NI (Nitrogen) or AR (Argon) <br>\n",
    "Sum of Sales_CR: scaled and centered value of overall customer turnover (not averaged) <br>\n",
    "MARKET_DOMAIN_DESCR:market domain of the customer <br>\n",
    "         * A&F : automotive & Fabrication,\n",
    "         * T&R:technology & research \n",
    "         * C&N:craftsmen & network\n",
    "         * F&P: food and pharma \n",
    "         * M&E: materials & energy\n",
    "MOD_VOLUME_CONSUMPTION : monthly customer consumption of gas (L/month) .  <br>\n",
    "Zip Code : 4 first digits of customer location in Singapore <br>\n",
    "TIMESTAMP : YEAR and MONTH  (2 columns) of the month ref <br>"
   ]
  },
  {
   "cell_type": "markdown",
   "metadata": {},
   "source": [
    "### Steps to work\n",
    "* Step 0: Identify types of variables\n",
    "* Step 1: Combine training and test data set\n",
    "* Step 2: Data Exploration\n",
    "* Step 3: Handle Missing values and Outliers\n",
    "* Step 4: Data Transformation\n",
    "* Step 5: Feature Selection : using PCA\n",
    "* Step 6: Tuning model\n",
    "* Step 7: Building model with hyperameter \n",
    "* Step 8: Model Validation"
   ]
  },
  {
   "cell_type": "code",
   "execution_count": 1,
   "metadata": {},
   "outputs": [],
   "source": [
    "import pandas as pd\n",
    "from sklearn.metrics import mean_squared_error\n",
    "from math import sqrt"
   ]
  },
  {
   "cell_type": "markdown",
   "metadata": {},
   "source": [
    "### Step 0: Data Retrieving"
   ]
  },
  {
   "cell_type": "code",
   "execution_count": 2,
   "metadata": {},
   "outputs": [
    {
     "data": {
      "text/html": [
       "<div>\n",
       "<style scoped>\n",
       "    .dataframe tbody tr th:only-of-type {\n",
       "        vertical-align: middle;\n",
       "    }\n",
       "\n",
       "    .dataframe tbody tr th {\n",
       "        vertical-align: top;\n",
       "    }\n",
       "\n",
       "    .dataframe thead th {\n",
       "        text-align: right;\n",
       "    }\n",
       "</style>\n",
       "<table border=\"1\" class=\"dataframe\">\n",
       "  <thead>\n",
       "    <tr style=\"text-align: right;\">\n",
       "      <th></th>\n",
       "      <th>DP_ID</th>\n",
       "      <th>gas</th>\n",
       "      <th>MARKET_DOMAIN_DESCR</th>\n",
       "      <th>MOD_VOLUME_CONSUMPTION</th>\n",
       "      <th>Sum of Sales_CR</th>\n",
       "      <th>ZIPcode</th>\n",
       "      <th>TIMESTAMP - Year</th>\n",
       "      <th>TIMESTAMP - Month</th>\n",
       "    </tr>\n",
       "  </thead>\n",
       "  <tbody>\n",
       "    <tr>\n",
       "      <th>0</th>\n",
       "      <td>15.0</td>\n",
       "      <td>OX</td>\n",
       "      <td>Others</td>\n",
       "      <td>4418.990766</td>\n",
       "      <td>0.148745</td>\n",
       "      <td>1098.0</td>\n",
       "      <td>2015.0</td>\n",
       "      <td>December</td>\n",
       "    </tr>\n",
       "    <tr>\n",
       "      <th>1</th>\n",
       "      <td>15.0</td>\n",
       "      <td>OX</td>\n",
       "      <td>Others</td>\n",
       "      <td>45856.219940</td>\n",
       "      <td>0.148745</td>\n",
       "      <td>1098.0</td>\n",
       "      <td>2016.0</td>\n",
       "      <td>December</td>\n",
       "    </tr>\n",
       "    <tr>\n",
       "      <th>2</th>\n",
       "      <td>19.0</td>\n",
       "      <td>NI</td>\n",
       "      <td>Chemicals</td>\n",
       "      <td>8886.312726</td>\n",
       "      <td>1.311563</td>\n",
       "      <td>6099.0</td>\n",
       "      <td>2015.0</td>\n",
       "      <td>December</td>\n",
       "    </tr>\n",
       "    <tr>\n",
       "      <th>3</th>\n",
       "      <td>19.0</td>\n",
       "      <td>NI</td>\n",
       "      <td>Chemicals</td>\n",
       "      <td>19603.786320</td>\n",
       "      <td>1.311563</td>\n",
       "      <td>6099.0</td>\n",
       "      <td>2016.0</td>\n",
       "      <td>December</td>\n",
       "    </tr>\n",
       "    <tr>\n",
       "      <th>4</th>\n",
       "      <td>48.0</td>\n",
       "      <td>NI</td>\n",
       "      <td>A&amp;F</td>\n",
       "      <td>209372.231800</td>\n",
       "      <td>-0.139912</td>\n",
       "      <td>4692.0</td>\n",
       "      <td>2015.0</td>\n",
       "      <td>December</td>\n",
       "    </tr>\n",
       "  </tbody>\n",
       "</table>\n",
       "</div>"
      ],
      "text/plain": [
       "   DP_ID gas MARKET_DOMAIN_DESCR  MOD_VOLUME_CONSUMPTION  Sum of Sales_CR  \\\n",
       "0   15.0  OX              Others             4418.990766         0.148745   \n",
       "1   15.0  OX              Others            45856.219940         0.148745   \n",
       "2   19.0  NI           Chemicals             8886.312726         1.311563   \n",
       "3   19.0  NI           Chemicals            19603.786320         1.311563   \n",
       "4   48.0  NI                 A&F           209372.231800        -0.139912   \n",
       "\n",
       "   ZIPcode  TIMESTAMP - Year TIMESTAMP - Month  \n",
       "0   1098.0            2015.0          December  \n",
       "1   1098.0            2016.0          December  \n",
       "2   6099.0            2015.0          December  \n",
       "3   6099.0            2016.0          December  \n",
       "4   4692.0            2015.0          December  "
      ]
     },
     "execution_count": 2,
     "metadata": {},
     "output_type": "execute_result"
    }
   ],
   "source": [
    "training_data_org = pd.read_csv(\"Dataset/train dataset IM challenge.csv\", sep=\",\")\n",
    "training_data_org.head()"
   ]
  },
  {
   "cell_type": "code",
   "execution_count": 3,
   "metadata": {},
   "outputs": [
    {
     "data": {
      "text/html": [
       "<div>\n",
       "<style scoped>\n",
       "    .dataframe tbody tr th:only-of-type {\n",
       "        vertical-align: middle;\n",
       "    }\n",
       "\n",
       "    .dataframe tbody tr th {\n",
       "        vertical-align: top;\n",
       "    }\n",
       "\n",
       "    .dataframe thead th {\n",
       "        text-align: right;\n",
       "    }\n",
       "</style>\n",
       "<table border=\"1\" class=\"dataframe\">\n",
       "  <thead>\n",
       "    <tr style=\"text-align: right;\">\n",
       "      <th></th>\n",
       "      <th>DP_ID</th>\n",
       "      <th>MOD_VOLUME_CONSUMPTION</th>\n",
       "      <th>Sum of Sales_CR</th>\n",
       "      <th>ZIPcode</th>\n",
       "      <th>TIMESTAMP - Year</th>\n",
       "    </tr>\n",
       "  </thead>\n",
       "  <tbody>\n",
       "    <tr>\n",
       "      <th>count</th>\n",
       "      <td>1259.000000</td>\n",
       "      <td>1.259000e+03</td>\n",
       "      <td>1259.000000</td>\n",
       "      <td>1245.000000</td>\n",
       "      <td>1259.000000</td>\n",
       "    </tr>\n",
       "    <tr>\n",
       "      <th>mean</th>\n",
       "      <td>729.200953</td>\n",
       "      <td>3.020667e+05</td>\n",
       "      <td>-0.046698</td>\n",
       "      <td>4480.287550</td>\n",
       "      <td>2016.221604</td>\n",
       "    </tr>\n",
       "    <tr>\n",
       "      <th>std</th>\n",
       "      <td>389.170142</td>\n",
       "      <td>5.170658e+05</td>\n",
       "      <td>0.927069</td>\n",
       "      <td>2353.493256</td>\n",
       "      <td>0.658304</td>\n",
       "    </tr>\n",
       "    <tr>\n",
       "      <th>min</th>\n",
       "      <td>15.000000</td>\n",
       "      <td>0.000000e+00</td>\n",
       "      <td>-0.600047</td>\n",
       "      <td>0.000000</td>\n",
       "      <td>2015.000000</td>\n",
       "    </tr>\n",
       "    <tr>\n",
       "      <th>25%</th>\n",
       "      <td>361.000000</td>\n",
       "      <td>2.152044e+04</td>\n",
       "      <td>-0.549398</td>\n",
       "      <td>1386.000000</td>\n",
       "      <td>2016.000000</td>\n",
       "    </tr>\n",
       "    <tr>\n",
       "      <th>50%</th>\n",
       "      <td>873.000000</td>\n",
       "      <td>7.810115e+04</td>\n",
       "      <td>-0.445163</td>\n",
       "      <td>5287.000000</td>\n",
       "      <td>2016.000000</td>\n",
       "    </tr>\n",
       "    <tr>\n",
       "      <th>75%</th>\n",
       "      <td>1099.000000</td>\n",
       "      <td>3.785858e+05</td>\n",
       "      <td>0.148745</td>\n",
       "      <td>6370.000000</td>\n",
       "      <td>2017.000000</td>\n",
       "    </tr>\n",
       "    <tr>\n",
       "      <th>max</th>\n",
       "      <td>1180.000000</td>\n",
       "      <td>3.996265e+06</td>\n",
       "      <td>4.276620</td>\n",
       "      <td>7975.000000</td>\n",
       "      <td>2018.000000</td>\n",
       "    </tr>\n",
       "  </tbody>\n",
       "</table>\n",
       "</div>"
      ],
      "text/plain": [
       "             DP_ID  MOD_VOLUME_CONSUMPTION  Sum of Sales_CR      ZIPcode  \\\n",
       "count  1259.000000            1.259000e+03      1259.000000  1245.000000   \n",
       "mean    729.200953            3.020667e+05        -0.046698  4480.287550   \n",
       "std     389.170142            5.170658e+05         0.927069  2353.493256   \n",
       "min      15.000000            0.000000e+00        -0.600047     0.000000   \n",
       "25%     361.000000            2.152044e+04        -0.549398  1386.000000   \n",
       "50%     873.000000            7.810115e+04        -0.445163  5287.000000   \n",
       "75%    1099.000000            3.785858e+05         0.148745  6370.000000   \n",
       "max    1180.000000            3.996265e+06         4.276620  7975.000000   \n",
       "\n",
       "       TIMESTAMP - Year  \n",
       "count       1259.000000  \n",
       "mean        2016.221604  \n",
       "std            0.658304  \n",
       "min         2015.000000  \n",
       "25%         2016.000000  \n",
       "50%         2016.000000  \n",
       "75%         2017.000000  \n",
       "max         2018.000000  "
      ]
     },
     "execution_count": 3,
     "metadata": {},
     "output_type": "execute_result"
    }
   ],
   "source": [
    "training_data_org.describe()"
   ]
  },
  {
   "cell_type": "code",
   "execution_count": 4,
   "metadata": {},
   "outputs": [
    {
     "data": {
      "text/html": [
       "<div>\n",
       "<style scoped>\n",
       "    .dataframe tbody tr th:only-of-type {\n",
       "        vertical-align: middle;\n",
       "    }\n",
       "\n",
       "    .dataframe tbody tr th {\n",
       "        vertical-align: top;\n",
       "    }\n",
       "\n",
       "    .dataframe thead th {\n",
       "        text-align: right;\n",
       "    }\n",
       "</style>\n",
       "<table border=\"1\" class=\"dataframe\">\n",
       "  <thead>\n",
       "    <tr style=\"text-align: right;\">\n",
       "      <th></th>\n",
       "      <th>ID</th>\n",
       "      <th>GAS</th>\n",
       "      <th>MARKET_DOMAIN_DESCR</th>\n",
       "      <th>Sum of Sales_CR</th>\n",
       "      <th>ZIPcode</th>\n",
       "      <th>TIMESTAMP - Year</th>\n",
       "      <th>TIMESTAMP - Month</th>\n",
       "    </tr>\n",
       "  </thead>\n",
       "  <tbody>\n",
       "    <tr>\n",
       "      <th>0</th>\n",
       "      <td>15</td>\n",
       "      <td>OX</td>\n",
       "      <td>Others</td>\n",
       "      <td>0.148745</td>\n",
       "      <td>1098.0</td>\n",
       "      <td>2017</td>\n",
       "      <td>June</td>\n",
       "    </tr>\n",
       "    <tr>\n",
       "      <th>1</th>\n",
       "      <td>15</td>\n",
       "      <td>OX</td>\n",
       "      <td>Others</td>\n",
       "      <td>0.148745</td>\n",
       "      <td>1098.0</td>\n",
       "      <td>2018</td>\n",
       "      <td>January</td>\n",
       "    </tr>\n",
       "    <tr>\n",
       "      <th>2</th>\n",
       "      <td>15</td>\n",
       "      <td>OX</td>\n",
       "      <td>Others</td>\n",
       "      <td>0.148745</td>\n",
       "      <td>1098.0</td>\n",
       "      <td>2017</td>\n",
       "      <td>July</td>\n",
       "    </tr>\n",
       "    <tr>\n",
       "      <th>3</th>\n",
       "      <td>15</td>\n",
       "      <td>OX</td>\n",
       "      <td>Others</td>\n",
       "      <td>0.148745</td>\n",
       "      <td>1098.0</td>\n",
       "      <td>2017</td>\n",
       "      <td>September</td>\n",
       "    </tr>\n",
       "    <tr>\n",
       "      <th>4</th>\n",
       "      <td>15</td>\n",
       "      <td>OX</td>\n",
       "      <td>Others</td>\n",
       "      <td>0.148745</td>\n",
       "      <td>1098.0</td>\n",
       "      <td>2017</td>\n",
       "      <td>August</td>\n",
       "    </tr>\n",
       "  </tbody>\n",
       "</table>\n",
       "</div>"
      ],
      "text/plain": [
       "   ID GAS MARKET_DOMAIN_DESCR  Sum of Sales_CR  ZIPcode  TIMESTAMP - Year  \\\n",
       "0  15  OX              Others         0.148745   1098.0              2017   \n",
       "1  15  OX              Others         0.148745   1098.0              2018   \n",
       "2  15  OX              Others         0.148745   1098.0              2017   \n",
       "3  15  OX              Others         0.148745   1098.0              2017   \n",
       "4  15  OX              Others         0.148745   1098.0              2017   \n",
       "\n",
       "  TIMESTAMP - Month  \n",
       "0              June  \n",
       "1           January  \n",
       "2              July  \n",
       "3         September  \n",
       "4            August  "
      ]
     },
     "execution_count": 4,
     "metadata": {},
     "output_type": "execute_result"
    }
   ],
   "source": [
    "test_data_org = pd.read_csv(\"Dataset/test dataset IM challenge.csv\", sep= \",\")\n",
    "test_data_org.head()"
   ]
  },
  {
   "cell_type": "code",
   "execution_count": 5,
   "metadata": {},
   "outputs": [
    {
     "name": "stdout",
     "output_type": "stream",
     "text": [
      "ID                     0\n",
      "GAS                    0\n",
      "MARKET_DOMAIN_DESCR    0\n",
      "Sum of Sales_CR        0\n",
      "ZIPcode                8\n",
      "TIMESTAMP - Year       0\n",
      "TIMESTAMP - Month      0\n",
      "dtype: int64\n"
     ]
    }
   ],
   "source": [
    "print test_data_org.isnull().sum(axis=0)"
   ]
  },
  {
   "cell_type": "code",
   "execution_count": 6,
   "metadata": {},
   "outputs": [
    {
     "name": "stdout",
     "output_type": "stream",
     "text": [
      "DP_ID                     float64\n",
      "gas                        object\n",
      "MARKET_DOMAIN_DESCR        object\n",
      "MOD_VOLUME_CONSUMPTION    float64\n",
      "Sum of Sales_CR           float64\n",
      "ZIPcode                   float64\n",
      "TIMESTAMP - Year          float64\n",
      "TIMESTAMP - Month          object\n",
      "dtype: object\n"
     ]
    }
   ],
   "source": [
    "print training_data_org.dtypes"
   ]
  },
  {
   "cell_type": "code",
   "execution_count": 7,
   "metadata": {},
   "outputs": [
    {
     "name": "stdout",
     "output_type": "stream",
     "text": [
      "(1352, 8)\n"
     ]
    }
   ],
   "source": [
    "print training_data_org.shape"
   ]
  },
  {
   "cell_type": "markdown",
   "metadata": {},
   "source": [
    "#### Variable Types "
   ]
  },
  {
   "cell_type": "markdown",
   "metadata": {},
   "source": [
    "* Gas : nominal variable\n",
    "* MARKET_DOMAIN_DESCR :nominal variable\n",
    "* MOD_VOLUME_CONSUMPTION (target feature) : Ratio variable (numeric)\n",
    "* Sum of Sales_CR : Ratio variable (numeric)\n",
    "* ZIPcode: interval variable \n",
    "* TIMESTAMP - Year: interval variable\n",
    "* TIMESTAMP - Month: ordinal variable"
   ]
  },
  {
   "cell_type": "code",
   "execution_count": 8,
   "metadata": {},
   "outputs": [
    {
     "name": "stdout",
     "output_type": "stream",
     "text": [
      "[2015. 2016. 2017. 2018.   nan]\n"
     ]
    }
   ],
   "source": [
    "print training_data_org['TIMESTAMP - Year'].unique()"
   ]
  },
  {
   "cell_type": "code",
   "execution_count": 9,
   "metadata": {},
   "outputs": [
    {
     "name": "stdout",
     "output_type": "stream",
     "text": [
      "['December' 'November' 'October' 'September' 'August' 'July' 'June' 'May'\n",
      " 'April' 'March' 'February' 'January' nan]\n"
     ]
    }
   ],
   "source": [
    "print training_data_org['TIMESTAMP - Month'].unique()"
   ]
  },
  {
   "cell_type": "code",
   "execution_count": 10,
   "metadata": {},
   "outputs": [
    {
     "name": "stdout",
     "output_type": "stream",
     "text": [
      "[1098. 6099. 4692. 1386. 1284. 5288. 5690. 6373. 3492. 5287. 6291.    0.\n",
      " 4988. 5746. 1399. 7389. 7687.   nan 6374. 6375. 1190. 7574. 7684. 4987.\n",
      " 6277. 7382. 7975.  986.  897. 7392.  791. 1174. 5696. 1182. 6275.  992.\n",
      " 2085. 5295. 6370. 6096. 1599. 7577.]\n"
     ]
    }
   ],
   "source": [
    "print training_data_org['ZIPcode'].unique()"
   ]
  },
  {
   "cell_type": "code",
   "execution_count": 11,
   "metadata": {},
   "outputs": [
    {
     "name": "stdout",
     "output_type": "stream",
     "text": [
      "DP_ID                      93\n",
      "gas                        93\n",
      "MARKET_DOMAIN_DESCR        93\n",
      "MOD_VOLUME_CONSUMPTION     93\n",
      "Sum of Sales_CR            93\n",
      "ZIPcode                   107\n",
      "TIMESTAMP - Year           93\n",
      "TIMESTAMP - Month          93\n",
      "dtype: int64\n"
     ]
    }
   ],
   "source": [
    "print training_data_org.isnull().sum(axis=0)"
   ]
  },
  {
   "cell_type": "code",
   "execution_count": 12,
   "metadata": {},
   "outputs": [
    {
     "name": "stdout",
     "output_type": "stream",
     "text": [
      "      DP_ID  gas MARKET_DOMAIN_DESCR  MOD_VOLUME_CONSUMPTION  Sum of Sales_CR  \\\n",
      "1259    NaN  NaN                 NaN                     NaN              NaN   \n",
      "1260    NaN  NaN                 NaN                     NaN              NaN   \n",
      "1261    NaN  NaN                 NaN                     NaN              NaN   \n",
      "1262    NaN  NaN                 NaN                     NaN              NaN   \n",
      "1263    NaN  NaN                 NaN                     NaN              NaN   \n",
      "1264    NaN  NaN                 NaN                     NaN              NaN   \n",
      "1265    NaN  NaN                 NaN                     NaN              NaN   \n",
      "1266    NaN  NaN                 NaN                     NaN              NaN   \n",
      "1267    NaN  NaN                 NaN                     NaN              NaN   \n",
      "1268    NaN  NaN                 NaN                     NaN              NaN   \n",
      "1269    NaN  NaN                 NaN                     NaN              NaN   \n",
      "1270    NaN  NaN                 NaN                     NaN              NaN   \n",
      "1271    NaN  NaN                 NaN                     NaN              NaN   \n",
      "1272    NaN  NaN                 NaN                     NaN              NaN   \n",
      "1273    NaN  NaN                 NaN                     NaN              NaN   \n",
      "1274    NaN  NaN                 NaN                     NaN              NaN   \n",
      "1275    NaN  NaN                 NaN                     NaN              NaN   \n",
      "1276    NaN  NaN                 NaN                     NaN              NaN   \n",
      "1277    NaN  NaN                 NaN                     NaN              NaN   \n",
      "1278    NaN  NaN                 NaN                     NaN              NaN   \n",
      "1279    NaN  NaN                 NaN                     NaN              NaN   \n",
      "1280    NaN  NaN                 NaN                     NaN              NaN   \n",
      "1281    NaN  NaN                 NaN                     NaN              NaN   \n",
      "1282    NaN  NaN                 NaN                     NaN              NaN   \n",
      "1283    NaN  NaN                 NaN                     NaN              NaN   \n",
      "1284    NaN  NaN                 NaN                     NaN              NaN   \n",
      "1285    NaN  NaN                 NaN                     NaN              NaN   \n",
      "1286    NaN  NaN                 NaN                     NaN              NaN   \n",
      "1287    NaN  NaN                 NaN                     NaN              NaN   \n",
      "1288    NaN  NaN                 NaN                     NaN              NaN   \n",
      "...     ...  ...                 ...                     ...              ...   \n",
      "1322    NaN  NaN                 NaN                     NaN              NaN   \n",
      "1323    NaN  NaN                 NaN                     NaN              NaN   \n",
      "1324    NaN  NaN                 NaN                     NaN              NaN   \n",
      "1325    NaN  NaN                 NaN                     NaN              NaN   \n",
      "1326    NaN  NaN                 NaN                     NaN              NaN   \n",
      "1327    NaN  NaN                 NaN                     NaN              NaN   \n",
      "1328    NaN  NaN                 NaN                     NaN              NaN   \n",
      "1329    NaN  NaN                 NaN                     NaN              NaN   \n",
      "1330    NaN  NaN                 NaN                     NaN              NaN   \n",
      "1331    NaN  NaN                 NaN                     NaN              NaN   \n",
      "1332    NaN  NaN                 NaN                     NaN              NaN   \n",
      "1333    NaN  NaN                 NaN                     NaN              NaN   \n",
      "1334    NaN  NaN                 NaN                     NaN              NaN   \n",
      "1335    NaN  NaN                 NaN                     NaN              NaN   \n",
      "1336    NaN  NaN                 NaN                     NaN              NaN   \n",
      "1337    NaN  NaN                 NaN                     NaN              NaN   \n",
      "1338    NaN  NaN                 NaN                     NaN              NaN   \n",
      "1339    NaN  NaN                 NaN                     NaN              NaN   \n",
      "1340    NaN  NaN                 NaN                     NaN              NaN   \n",
      "1341    NaN  NaN                 NaN                     NaN              NaN   \n",
      "1342    NaN  NaN                 NaN                     NaN              NaN   \n",
      "1343    NaN  NaN                 NaN                     NaN              NaN   \n",
      "1344    NaN  NaN                 NaN                     NaN              NaN   \n",
      "1345    NaN  NaN                 NaN                     NaN              NaN   \n",
      "1346    NaN  NaN                 NaN                     NaN              NaN   \n",
      "1347    NaN  NaN                 NaN                     NaN              NaN   \n",
      "1348    NaN  NaN                 NaN                     NaN              NaN   \n",
      "1349    NaN  NaN                 NaN                     NaN              NaN   \n",
      "1350    NaN  NaN                 NaN                     NaN              NaN   \n",
      "1351    NaN  NaN                 NaN                     NaN              NaN   \n",
      "\n",
      "      ZIPcode  TIMESTAMP - Year TIMESTAMP - Month  \n",
      "1259      NaN               NaN               NaN  \n",
      "1260      NaN               NaN               NaN  \n",
      "1261      NaN               NaN               NaN  \n",
      "1262      NaN               NaN               NaN  \n",
      "1263      NaN               NaN               NaN  \n",
      "1264      NaN               NaN               NaN  \n",
      "1265      NaN               NaN               NaN  \n",
      "1266      NaN               NaN               NaN  \n",
      "1267      NaN               NaN               NaN  \n",
      "1268      NaN               NaN               NaN  \n",
      "1269      NaN               NaN               NaN  \n",
      "1270      NaN               NaN               NaN  \n",
      "1271      NaN               NaN               NaN  \n",
      "1272      NaN               NaN               NaN  \n",
      "1273      NaN               NaN               NaN  \n",
      "1274      NaN               NaN               NaN  \n",
      "1275      NaN               NaN               NaN  \n",
      "1276      NaN               NaN               NaN  \n",
      "1277      NaN               NaN               NaN  \n",
      "1278      NaN               NaN               NaN  \n",
      "1279      NaN               NaN               NaN  \n",
      "1280      NaN               NaN               NaN  \n",
      "1281      NaN               NaN               NaN  \n",
      "1282      NaN               NaN               NaN  \n",
      "1283      NaN               NaN               NaN  \n",
      "1284      NaN               NaN               NaN  \n",
      "1285      NaN               NaN               NaN  \n",
      "1286      NaN               NaN               NaN  \n",
      "1287      NaN               NaN               NaN  \n",
      "1288      NaN               NaN               NaN  \n",
      "...       ...               ...               ...  \n",
      "1322      NaN               NaN               NaN  \n",
      "1323      NaN               NaN               NaN  \n",
      "1324      NaN               NaN               NaN  \n",
      "1325      NaN               NaN               NaN  \n",
      "1326      NaN               NaN               NaN  \n",
      "1327      NaN               NaN               NaN  \n",
      "1328      NaN               NaN               NaN  \n",
      "1329      NaN               NaN               NaN  \n",
      "1330      NaN               NaN               NaN  \n",
      "1331      NaN               NaN               NaN  \n",
      "1332      NaN               NaN               NaN  \n",
      "1333      NaN               NaN               NaN  \n",
      "1334      NaN               NaN               NaN  \n",
      "1335      NaN               NaN               NaN  \n",
      "1336      NaN               NaN               NaN  \n",
      "1337      NaN               NaN               NaN  \n",
      "1338      NaN               NaN               NaN  \n",
      "1339      NaN               NaN               NaN  \n",
      "1340      NaN               NaN               NaN  \n",
      "1341      NaN               NaN               NaN  \n",
      "1342      NaN               NaN               NaN  \n",
      "1343      NaN               NaN               NaN  \n",
      "1344      NaN               NaN               NaN  \n",
      "1345      NaN               NaN               NaN  \n",
      "1346      NaN               NaN               NaN  \n",
      "1347      NaN               NaN               NaN  \n",
      "1348      NaN               NaN               NaN  \n",
      "1349      NaN               NaN               NaN  \n",
      "1350      NaN               NaN               NaN  \n",
      "1351      NaN               NaN               NaN  \n",
      "\n",
      "[93 rows x 8 columns]\n"
     ]
    }
   ],
   "source": [
    "print training_data_org[training_data_org['DP_ID'].isnull()]"
   ]
  },
  {
   "cell_type": "code",
   "execution_count": 13,
   "metadata": {},
   "outputs": [
    {
     "name": "stdout",
     "output_type": "stream",
     "text": [
      "Empty DataFrame\n",
      "Columns: [DP_ID, gas, MARKET_DOMAIN_DESCR, MOD_VOLUME_CONSUMPTION, Sum of Sales_CR, ZIPcode, TIMESTAMP - Year, TIMESTAMP - Month]\n",
      "Index: []\n"
     ]
    }
   ],
   "source": [
    "print training_data_org[training_data_org['DP_ID']==0]"
   ]
  },
  {
   "cell_type": "markdown",
   "metadata": {},
   "source": [
    "## Step 3,4,5 Data Preprocessing"
   ]
  },
  {
   "cell_type": "markdown",
   "metadata": {},
   "source": [
    "### Missing values\n",
    "* Remove NA rows (93 rows) because this is no replies from customer or DP_ID is null"
   ]
  },
  {
   "cell_type": "code",
   "execution_count": 14,
   "metadata": {},
   "outputs": [
    {
     "name": "stdout",
     "output_type": "stream",
     "text": [
      "(1259, 8)\n"
     ]
    }
   ],
   "source": [
    "data_rmNA = training_data_org.dropna(subset=['DP_ID'])\n",
    "print data_rmNA.shape"
   ]
  },
  {
   "cell_type": "code",
   "execution_count": 15,
   "metadata": {},
   "outputs": [
    {
     "name": "stdout",
     "output_type": "stream",
     "text": [
      "[1098. 6099. 4692. 1386. 1284. 5288. 5690. 6373. 3492. 5287. 6291.    0.\n",
      " 4988. 5746. 1399. 7389. 7687.   nan 6374. 6375. 1190. 7574. 7684. 4987.\n",
      " 6277. 7382. 7975.  986.  897. 7392.  791. 1174. 5696. 1182. 6275.  992.\n",
      " 2085. 5295. 6370. 6096. 1599. 7577.]\n"
     ]
    }
   ],
   "source": [
    "print data_rmNA['ZIPcode'].unique()"
   ]
  },
  {
   "cell_type": "code",
   "execution_count": 16,
   "metadata": {},
   "outputs": [
    {
     "name": "stdout",
     "output_type": "stream",
     "text": [
      "         ZIPcode\n",
      "ZIPcode         \n",
      "0.0           13\n",
      "791.0          6\n",
      "897.0          7\n",
      "986.0         10\n",
      "992.0         52\n",
      "1098.0        64\n",
      "1174.0        73\n",
      "1182.0        19\n",
      "1190.0         9\n",
      "1284.0        19\n",
      "1386.0        41\n",
      "1399.0        26\n",
      "1599.0        19\n",
      "2085.0        16\n",
      "3492.0        74\n",
      "4692.0        34\n",
      "4987.0        38\n",
      "4988.0        12\n",
      "5287.0       111\n",
      "5288.0        33\n",
      "5295.0        18\n",
      "5690.0         9\n",
      "5696.0        18\n",
      "5746.0        18\n",
      "6096.0        38\n",
      "6099.0        89\n",
      "6275.0        33\n",
      "6277.0         9\n",
      "6291.0         9\n",
      "6370.0        37\n",
      "6373.0       110\n",
      "6374.0        36\n",
      "6375.0         8\n",
      "7382.0        12\n",
      "7389.0        13\n",
      "7392.0        17\n",
      "7574.0        27\n",
      "7577.0         8\n",
      "7684.0        22\n",
      "7687.0        19\n",
      "7975.0        19\n"
     ]
    }
   ],
   "source": [
    "print data_rmNA.groupby('ZIPcode').agg({'ZIPcode': 'count'})"
   ]
  },
  {
   "cell_type": "code",
   "execution_count": 17,
   "metadata": {},
   "outputs": [
    {
     "name": "stdout",
     "output_type": "stream",
     "text": [
      "['OX' 'NI' 'AR' 'CB']\n"
     ]
    }
   ],
   "source": [
    "print data_rmNA['gas'].unique()"
   ]
  },
  {
   "cell_type": "code",
   "execution_count": 18,
   "metadata": {},
   "outputs": [
    {
     "name": "stdout",
     "output_type": "stream",
     "text": [
      "DP_ID                     1259\n",
      "gas                       1259\n",
      "MARKET_DOMAIN_DESCR       1259\n",
      "MOD_VOLUME_CONSUMPTION    1259\n",
      "Sum of Sales_CR           1259\n",
      "ZIPcode                   1245\n",
      "TIMESTAMP - Year          1259\n",
      "TIMESTAMP - Month         1259\n",
      "dtype: int64\n"
     ]
    }
   ],
   "source": [
    "print data_rmNA.count()"
   ]
  },
  {
   "cell_type": "code",
   "execution_count": 19,
   "metadata": {},
   "outputs": [
    {
     "name": "stdout",
     "output_type": "stream",
     "text": [
      "             DP_ID  MOD_VOLUME_CONSUMPTION  Sum of Sales_CR      ZIPcode  \\\n",
      "count  1259.000000            1.259000e+03      1259.000000  1245.000000   \n",
      "mean    729.200953            3.020667e+05        -0.046698  4480.287550   \n",
      "std     389.170142            5.170658e+05         0.927069  2353.493256   \n",
      "min      15.000000            0.000000e+00        -0.600047     0.000000   \n",
      "25%     361.000000            2.152044e+04        -0.549398  1386.000000   \n",
      "50%     873.000000            7.810115e+04        -0.445163  5287.000000   \n",
      "75%    1099.000000            3.785858e+05         0.148745  6370.000000   \n",
      "max    1180.000000            3.996265e+06         4.276620  7975.000000   \n",
      "\n",
      "       TIMESTAMP - Year  \n",
      "count       1259.000000  \n",
      "mean        2016.221604  \n",
      "std            0.658304  \n",
      "min         2015.000000  \n",
      "25%         2016.000000  \n",
      "50%         2016.000000  \n",
      "75%         2017.000000  \n",
      "max         2018.000000  \n"
     ]
    }
   ],
   "source": [
    "print data_rmNA.describe()"
   ]
  },
  {
   "cell_type": "code",
   "execution_count": 20,
   "metadata": {},
   "outputs": [
    {
     "name": "stdout",
     "output_type": "stream",
     "text": [
      "(1259, 8)\n"
     ]
    }
   ],
   "source": [
    "print data_rmNA.shape"
   ]
  },
  {
   "cell_type": "code",
   "execution_count": 21,
   "metadata": {},
   "outputs": [
    {
     "name": "stdout",
     "output_type": "stream",
     "text": [
      "[2015. 2016. 2017. 2018.]\n"
     ]
    }
   ],
   "source": [
    "print data_rmNA['TIMESTAMP - Year'].unique()"
   ]
  },
  {
   "cell_type": "code",
   "execution_count": 22,
   "metadata": {},
   "outputs": [
    {
     "name": "stdout",
     "output_type": "stream",
     "text": [
      "['December' 'November' 'October' 'September' 'August' 'July' 'June' 'May'\n",
      " 'April' 'March' 'February' 'January']\n"
     ]
    }
   ],
   "source": [
    "print data_rmNA['TIMESTAMP - Month'].unique()"
   ]
  },
  {
   "cell_type": "code",
   "execution_count": 23,
   "metadata": {},
   "outputs": [
    {
     "name": "stdout",
     "output_type": "stream",
     "text": [
      "Empty DataFrame\n",
      "Columns: [DP_ID, gas, MARKET_DOMAIN_DESCR, MOD_VOLUME_CONSUMPTION, Sum of Sales_CR, ZIPcode, TIMESTAMP - Year, TIMESTAMP - Month]\n",
      "Index: []\n"
     ]
    }
   ],
   "source": [
    "print data_rmNA[data_rmNA['Sum of Sales_CR'].isnull()]"
   ]
  },
  {
   "cell_type": "code",
   "execution_count": 24,
   "metadata": {},
   "outputs": [
    {
     "name": "stdout",
     "output_type": "stream",
     "text": [
      "[1098. 6099. 4692. 1386. 1284. 5288. 5690. 6373. 3492. 5287. 6291.    0.\n",
      " 4988. 5746. 1399. 7389. 7687.   nan 6374. 6375. 1190. 7574. 7684. 4987.\n",
      " 6277. 7382. 7975.  986.  897. 7392.  791. 1174. 5696. 1182. 6275.  992.\n",
      " 2085. 5295. 6370. 6096. 1599. 7577.]\n"
     ]
    }
   ],
   "source": [
    "print data_rmNA['ZIPcode'].unique()"
   ]
  },
  {
   "cell_type": "code",
   "execution_count": 25,
   "metadata": {},
   "outputs": [
    {
     "name": "stdout",
     "output_type": "stream",
     "text": [
      "DP_ID                     float64\n",
      "gas                        object\n",
      "MARKET_DOMAIN_DESCR        object\n",
      "MOD_VOLUME_CONSUMPTION    float64\n",
      "Sum of Sales_CR           float64\n",
      "ZIPcode                   float64\n",
      "TIMESTAMP - Year          float64\n",
      "TIMESTAMP - Month          object\n",
      "dtype: object\n"
     ]
    }
   ],
   "source": [
    "print data_rmNA.dtypes"
   ]
  },
  {
   "cell_type": "markdown",
   "metadata": {},
   "source": [
    "* __Keep Zero (0) value for ZIPcode__\n",
    "* __For \"TIMESTAMP - Year\" : clean input data \"2015.0\" into \"2015__"
   ]
  },
  {
   "cell_type": "code",
   "execution_count": 26,
   "metadata": {},
   "outputs": [
    {
     "name": "stderr",
     "output_type": "stream",
     "text": [
      "D:\\Tools\\Anacoda2\\lib\\site-packages\\pandas\\core\\indexing.py:537: SettingWithCopyWarning: \n",
      "A value is trying to be set on a copy of a slice from a DataFrame.\n",
      "Try using .loc[row_indexer,col_indexer] = value instead\n",
      "\n",
      "See the caveats in the documentation: http://pandas.pydata.org/pandas-docs/stable/indexing.html#indexing-view-versus-copy\n",
      "  self.obj[item] = s\n"
     ]
    }
   ],
   "source": [
    "data_rmNA.loc[:,'TIMESTAMP - Year'] = data_rmNA.loc[:,'TIMESTAMP - Year'].apply(lambda x : int(x))"
   ]
  },
  {
   "cell_type": "markdown",
   "metadata": {},
   "source": [
    "* __FOR ZIPcode is NAN, we consider it as Zero__"
   ]
  },
  {
   "cell_type": "code",
   "execution_count": 27,
   "metadata": {},
   "outputs": [
    {
     "data": {
      "text/html": [
       "<div>\n",
       "<style scoped>\n",
       "    .dataframe tbody tr th:only-of-type {\n",
       "        vertical-align: middle;\n",
       "    }\n",
       "\n",
       "    .dataframe tbody tr th {\n",
       "        vertical-align: top;\n",
       "    }\n",
       "\n",
       "    .dataframe thead th {\n",
       "        text-align: right;\n",
       "    }\n",
       "</style>\n",
       "<table border=\"1\" class=\"dataframe\">\n",
       "  <thead>\n",
       "    <tr style=\"text-align: right;\">\n",
       "      <th></th>\n",
       "      <th>DP_ID</th>\n",
       "      <th>gas</th>\n",
       "      <th>MARKET_DOMAIN_DESCR</th>\n",
       "      <th>MOD_VOLUME_CONSUMPTION</th>\n",
       "      <th>Sum of Sales_CR</th>\n",
       "      <th>ZIPcode</th>\n",
       "      <th>TIMESTAMP - Year</th>\n",
       "      <th>TIMESTAMP - Month</th>\n",
       "    </tr>\n",
       "  </thead>\n",
       "  <tbody>\n",
       "    <tr>\n",
       "      <th>36</th>\n",
       "      <td>361.0</td>\n",
       "      <td>NI</td>\n",
       "      <td>T&amp;R</td>\n",
       "      <td>6.227681e+05</td>\n",
       "      <td>-0.072596</td>\n",
       "      <td>NaN</td>\n",
       "      <td>2015</td>\n",
       "      <td>December</td>\n",
       "    </tr>\n",
       "    <tr>\n",
       "      <th>164</th>\n",
       "      <td>361.0</td>\n",
       "      <td>NI</td>\n",
       "      <td>T&amp;R</td>\n",
       "      <td>3.311925e+05</td>\n",
       "      <td>-0.072596</td>\n",
       "      <td>NaN</td>\n",
       "      <td>2015</td>\n",
       "      <td>November</td>\n",
       "    </tr>\n",
       "    <tr>\n",
       "      <th>368</th>\n",
       "      <td>361.0</td>\n",
       "      <td>NI</td>\n",
       "      <td>T&amp;R</td>\n",
       "      <td>2.487411e+04</td>\n",
       "      <td>-0.072596</td>\n",
       "      <td>NaN</td>\n",
       "      <td>2016</td>\n",
       "      <td>August</td>\n",
       "    </tr>\n",
       "    <tr>\n",
       "      <th>419</th>\n",
       "      <td>361.0</td>\n",
       "      <td>NI</td>\n",
       "      <td>T&amp;R</td>\n",
       "      <td>7.690816e+05</td>\n",
       "      <td>-0.072596</td>\n",
       "      <td>NaN</td>\n",
       "      <td>2016</td>\n",
       "      <td>July</td>\n",
       "    </tr>\n",
       "    <tr>\n",
       "      <th>470</th>\n",
       "      <td>361.0</td>\n",
       "      <td>NI</td>\n",
       "      <td>T&amp;R</td>\n",
       "      <td>6.242725e+05</td>\n",
       "      <td>-0.072596</td>\n",
       "      <td>NaN</td>\n",
       "      <td>2016</td>\n",
       "      <td>June</td>\n",
       "    </tr>\n",
       "    <tr>\n",
       "      <th>543</th>\n",
       "      <td>361.0</td>\n",
       "      <td>NI</td>\n",
       "      <td>T&amp;R</td>\n",
       "      <td>7.511448e+05</td>\n",
       "      <td>-0.072596</td>\n",
       "      <td>NaN</td>\n",
       "      <td>2017</td>\n",
       "      <td>May</td>\n",
       "    </tr>\n",
       "    <tr>\n",
       "      <th>544</th>\n",
       "      <td>361.0</td>\n",
       "      <td>NI</td>\n",
       "      <td>T&amp;R</td>\n",
       "      <td>1.092527e+06</td>\n",
       "      <td>-0.072596</td>\n",
       "      <td>NaN</td>\n",
       "      <td>2016</td>\n",
       "      <td>May</td>\n",
       "    </tr>\n",
       "    <tr>\n",
       "      <th>672</th>\n",
       "      <td>361.0</td>\n",
       "      <td>NI</td>\n",
       "      <td>T&amp;R</td>\n",
       "      <td>7.656459e+05</td>\n",
       "      <td>-0.072596</td>\n",
       "      <td>NaN</td>\n",
       "      <td>2017</td>\n",
       "      <td>April</td>\n",
       "    </tr>\n",
       "    <tr>\n",
       "      <th>673</th>\n",
       "      <td>361.0</td>\n",
       "      <td>NI</td>\n",
       "      <td>T&amp;R</td>\n",
       "      <td>8.174804e+05</td>\n",
       "      <td>-0.072596</td>\n",
       "      <td>NaN</td>\n",
       "      <td>2016</td>\n",
       "      <td>April</td>\n",
       "    </tr>\n",
       "    <tr>\n",
       "      <th>808</th>\n",
       "      <td>361.0</td>\n",
       "      <td>NI</td>\n",
       "      <td>T&amp;R</td>\n",
       "      <td>7.694090e+05</td>\n",
       "      <td>-0.072596</td>\n",
       "      <td>NaN</td>\n",
       "      <td>2016</td>\n",
       "      <td>March</td>\n",
       "    </tr>\n",
       "    <tr>\n",
       "      <th>809</th>\n",
       "      <td>361.0</td>\n",
       "      <td>NI</td>\n",
       "      <td>T&amp;R</td>\n",
       "      <td>7.849744e+05</td>\n",
       "      <td>-0.072596</td>\n",
       "      <td>NaN</td>\n",
       "      <td>2017</td>\n",
       "      <td>March</td>\n",
       "    </tr>\n",
       "    <tr>\n",
       "      <th>957</th>\n",
       "      <td>361.0</td>\n",
       "      <td>NI</td>\n",
       "      <td>T&amp;R</td>\n",
       "      <td>1.948296e+05</td>\n",
       "      <td>-0.072596</td>\n",
       "      <td>NaN</td>\n",
       "      <td>2017</td>\n",
       "      <td>February</td>\n",
       "    </tr>\n",
       "    <tr>\n",
       "      <th>958</th>\n",
       "      <td>361.0</td>\n",
       "      <td>NI</td>\n",
       "      <td>T&amp;R</td>\n",
       "      <td>2.699718e+05</td>\n",
       "      <td>-0.072596</td>\n",
       "      <td>NaN</td>\n",
       "      <td>2016</td>\n",
       "      <td>February</td>\n",
       "    </tr>\n",
       "    <tr>\n",
       "      <th>1089</th>\n",
       "      <td>361.0</td>\n",
       "      <td>NI</td>\n",
       "      <td>T&amp;R</td>\n",
       "      <td>7.302720e+05</td>\n",
       "      <td>-0.072596</td>\n",
       "      <td>NaN</td>\n",
       "      <td>2016</td>\n",
       "      <td>January</td>\n",
       "    </tr>\n",
       "  </tbody>\n",
       "</table>\n",
       "</div>"
      ],
      "text/plain": [
       "      DP_ID gas MARKET_DOMAIN_DESCR  MOD_VOLUME_CONSUMPTION  Sum of Sales_CR  \\\n",
       "36    361.0  NI                 T&R            6.227681e+05        -0.072596   \n",
       "164   361.0  NI                 T&R            3.311925e+05        -0.072596   \n",
       "368   361.0  NI                 T&R            2.487411e+04        -0.072596   \n",
       "419   361.0  NI                 T&R            7.690816e+05        -0.072596   \n",
       "470   361.0  NI                 T&R            6.242725e+05        -0.072596   \n",
       "543   361.0  NI                 T&R            7.511448e+05        -0.072596   \n",
       "544   361.0  NI                 T&R            1.092527e+06        -0.072596   \n",
       "672   361.0  NI                 T&R            7.656459e+05        -0.072596   \n",
       "673   361.0  NI                 T&R            8.174804e+05        -0.072596   \n",
       "808   361.0  NI                 T&R            7.694090e+05        -0.072596   \n",
       "809   361.0  NI                 T&R            7.849744e+05        -0.072596   \n",
       "957   361.0  NI                 T&R            1.948296e+05        -0.072596   \n",
       "958   361.0  NI                 T&R            2.699718e+05        -0.072596   \n",
       "1089  361.0  NI                 T&R            7.302720e+05        -0.072596   \n",
       "\n",
       "      ZIPcode  TIMESTAMP - Year TIMESTAMP - Month  \n",
       "36        NaN              2015          December  \n",
       "164       NaN              2015          November  \n",
       "368       NaN              2016            August  \n",
       "419       NaN              2016              July  \n",
       "470       NaN              2016              June  \n",
       "543       NaN              2017               May  \n",
       "544       NaN              2016               May  \n",
       "672       NaN              2017             April  \n",
       "673       NaN              2016             April  \n",
       "808       NaN              2016             March  \n",
       "809       NaN              2017             March  \n",
       "957       NaN              2017          February  \n",
       "958       NaN              2016          February  \n",
       "1089      NaN              2016           January  "
      ]
     },
     "execution_count": 27,
     "metadata": {},
     "output_type": "execute_result"
    }
   ],
   "source": [
    "data_rmNA[data_rmNA['ZIPcode'].isnull()]"
   ]
  },
  {
   "cell_type": "code",
   "execution_count": 28,
   "metadata": {},
   "outputs": [],
   "source": [
    "data_rmNA.loc[:,'ZIPcode'] = data_rmNA.loc[:,'ZIPcode'].apply(lambda x : int(x) if not pd.isnull(x) else 0)\n"
   ]
  },
  {
   "cell_type": "code",
   "execution_count": 29,
   "metadata": {},
   "outputs": [
    {
     "name": "stdout",
     "output_type": "stream",
     "text": [
      "         ZIPcode\n",
      "ZIPcode         \n",
      "0             27\n",
      "791            6\n",
      "897            7\n",
      "986           10\n",
      "992           52\n",
      "1098          64\n",
      "1174          73\n",
      "1182          19\n",
      "1190           9\n",
      "1284          19\n",
      "1386          41\n",
      "1399          26\n",
      "1599          19\n",
      "2085          16\n",
      "3492          74\n",
      "4692          34\n",
      "4987          38\n",
      "4988          12\n",
      "5287         111\n",
      "5288          33\n",
      "5295          18\n",
      "5690           9\n",
      "5696          18\n",
      "5746          18\n",
      "6096          38\n",
      "6099          89\n",
      "6275          33\n",
      "6277           9\n",
      "6291           9\n",
      "6370          37\n",
      "6373         110\n",
      "6374          36\n",
      "6375           8\n",
      "7382          12\n",
      "7389          13\n",
      "7392          17\n",
      "7574          27\n",
      "7577           8\n",
      "7684          22\n",
      "7687          19\n",
      "7975          19\n"
     ]
    }
   ],
   "source": [
    "print data_rmNA.groupby('ZIPcode').agg({'ZIPcode': 'count'})"
   ]
  },
  {
   "cell_type": "code",
   "execution_count": 30,
   "metadata": {},
   "outputs": [
    {
     "data": {
      "text/html": [
       "<div>\n",
       "<style scoped>\n",
       "    .dataframe tbody tr th:only-of-type {\n",
       "        vertical-align: middle;\n",
       "    }\n",
       "\n",
       "    .dataframe tbody tr th {\n",
       "        vertical-align: top;\n",
       "    }\n",
       "\n",
       "    .dataframe thead th {\n",
       "        text-align: right;\n",
       "    }\n",
       "</style>\n",
       "<table border=\"1\" class=\"dataframe\">\n",
       "  <thead>\n",
       "    <tr style=\"text-align: right;\">\n",
       "      <th></th>\n",
       "      <th>DP_ID</th>\n",
       "      <th>gas</th>\n",
       "      <th>MARKET_DOMAIN_DESCR</th>\n",
       "      <th>MOD_VOLUME_CONSUMPTION</th>\n",
       "      <th>Sum of Sales_CR</th>\n",
       "      <th>ZIPcode</th>\n",
       "      <th>TIMESTAMP - Year</th>\n",
       "      <th>TIMESTAMP - Month</th>\n",
       "    </tr>\n",
       "  </thead>\n",
       "  <tbody>\n",
       "    <tr>\n",
       "      <th>0</th>\n",
       "      <td>15.0</td>\n",
       "      <td>OX</td>\n",
       "      <td>Others</td>\n",
       "      <td>4418.990766</td>\n",
       "      <td>0.148745</td>\n",
       "      <td>1098</td>\n",
       "      <td>2015</td>\n",
       "      <td>December</td>\n",
       "    </tr>\n",
       "    <tr>\n",
       "      <th>1</th>\n",
       "      <td>15.0</td>\n",
       "      <td>OX</td>\n",
       "      <td>Others</td>\n",
       "      <td>45856.219940</td>\n",
       "      <td>0.148745</td>\n",
       "      <td>1098</td>\n",
       "      <td>2016</td>\n",
       "      <td>December</td>\n",
       "    </tr>\n",
       "    <tr>\n",
       "      <th>2</th>\n",
       "      <td>19.0</td>\n",
       "      <td>NI</td>\n",
       "      <td>Chemicals</td>\n",
       "      <td>8886.312726</td>\n",
       "      <td>1.311563</td>\n",
       "      <td>6099</td>\n",
       "      <td>2015</td>\n",
       "      <td>December</td>\n",
       "    </tr>\n",
       "    <tr>\n",
       "      <th>3</th>\n",
       "      <td>19.0</td>\n",
       "      <td>NI</td>\n",
       "      <td>Chemicals</td>\n",
       "      <td>19603.786320</td>\n",
       "      <td>1.311563</td>\n",
       "      <td>6099</td>\n",
       "      <td>2016</td>\n",
       "      <td>December</td>\n",
       "    </tr>\n",
       "    <tr>\n",
       "      <th>4</th>\n",
       "      <td>48.0</td>\n",
       "      <td>NI</td>\n",
       "      <td>A&amp;F</td>\n",
       "      <td>209372.231800</td>\n",
       "      <td>-0.139912</td>\n",
       "      <td>4692</td>\n",
       "      <td>2015</td>\n",
       "      <td>December</td>\n",
       "    </tr>\n",
       "  </tbody>\n",
       "</table>\n",
       "</div>"
      ],
      "text/plain": [
       "   DP_ID gas MARKET_DOMAIN_DESCR  MOD_VOLUME_CONSUMPTION  Sum of Sales_CR  \\\n",
       "0   15.0  OX              Others             4418.990766         0.148745   \n",
       "1   15.0  OX              Others            45856.219940         0.148745   \n",
       "2   19.0  NI           Chemicals             8886.312726         1.311563   \n",
       "3   19.0  NI           Chemicals            19603.786320         1.311563   \n",
       "4   48.0  NI                 A&F           209372.231800        -0.139912   \n",
       "\n",
       "   ZIPcode  TIMESTAMP - Year TIMESTAMP - Month  \n",
       "0     1098              2015          December  \n",
       "1     1098              2016          December  \n",
       "2     6099              2015          December  \n",
       "3     6099              2016          December  \n",
       "4     4692              2015          December  "
      ]
     },
     "execution_count": 30,
     "metadata": {},
     "output_type": "execute_result"
    }
   ],
   "source": [
    "data_rmNA.head()"
   ]
  },
  {
   "cell_type": "code",
   "execution_count": 31,
   "metadata": {},
   "outputs": [
    {
     "data": {
      "text/plain": [
       "array(['Others', 'Chemicals', 'A&F', 'T&R', 'F&P', 'MD', 'M&E'],\n",
       "      dtype=object)"
      ]
     },
     "execution_count": 31,
     "metadata": {},
     "output_type": "execute_result"
    }
   ],
   "source": [
    "data_rmNA['MARKET_DOMAIN_DESCR'].unique()"
   ]
  },
  {
   "cell_type": "markdown",
   "metadata": {},
   "source": [
    "### Data Transformation"
   ]
  },
  {
   "cell_type": "markdown",
   "metadata": {},
   "source": [
    "**LABEL Category variables with numeric**"
   ]
  },
  {
   "cell_type": "code",
   "execution_count": 32,
   "metadata": {},
   "outputs": [],
   "source": [
    "from sklearn.preprocessing import LabelEncoder"
   ]
  },
  {
   "cell_type": "code",
   "execution_count": 33,
   "metadata": {},
   "outputs": [],
   "source": [
    "data_rmNA = data_rmNA.rename(columns={'DP_ID': 'ID', 'gas': 'GAS'})"
   ]
  },
  {
   "cell_type": "code",
   "execution_count": 34,
   "metadata": {},
   "outputs": [
    {
     "data": {
      "text/plain": [
       "Index([u'ID', u'GAS', u'MARKET_DOMAIN_DESCR', u'MOD_VOLUME_CONSUMPTION',\n",
       "       u'Sum of Sales_CR', u'ZIPcode', u'TIMESTAMP - Year',\n",
       "       u'TIMESTAMP - Month'],\n",
       "      dtype='object')"
      ]
     },
     "execution_count": 34,
     "metadata": {},
     "output_type": "execute_result"
    }
   ],
   "source": [
    "data_rmNA.columns"
   ]
  },
  {
   "cell_type": "code",
   "execution_count": 51,
   "metadata": {},
   "outputs": [
    {
     "data": {
      "text/html": [
       "<div>\n",
       "<style scoped>\n",
       "    .dataframe tbody tr th:only-of-type {\n",
       "        vertical-align: middle;\n",
       "    }\n",
       "\n",
       "    .dataframe tbody tr th {\n",
       "        vertical-align: top;\n",
       "    }\n",
       "\n",
       "    .dataframe thead th {\n",
       "        text-align: right;\n",
       "    }\n",
       "</style>\n",
       "<table border=\"1\" class=\"dataframe\">\n",
       "  <thead>\n",
       "    <tr style=\"text-align: right;\">\n",
       "      <th></th>\n",
       "      <th>ID</th>\n",
       "      <th>GAS</th>\n",
       "      <th>MARKET_DOMAIN_DESCR</th>\n",
       "      <th>MOD_VOLUME_CONSUMPTION</th>\n",
       "      <th>Sum of Sales_CR</th>\n",
       "      <th>ZIPcode</th>\n",
       "      <th>TIMESTAMP - Year</th>\n",
       "      <th>TIMESTAMP - Month</th>\n",
       "    </tr>\n",
       "  </thead>\n",
       "  <tbody>\n",
       "    <tr>\n",
       "      <th>1254</th>\n",
       "      <td>1173.0</td>\n",
       "      <td>OX</td>\n",
       "      <td>F&amp;P</td>\n",
       "      <td>8.253079e+03</td>\n",
       "      <td>-0.505485</td>\n",
       "      <td>6370</td>\n",
       "      <td>2018</td>\n",
       "      <td>January</td>\n",
       "    </tr>\n",
       "    <tr>\n",
       "      <th>1255</th>\n",
       "      <td>1174.0</td>\n",
       "      <td>CB</td>\n",
       "      <td>F&amp;P</td>\n",
       "      <td>6.177636e+03</td>\n",
       "      <td>-0.505485</td>\n",
       "      <td>6370</td>\n",
       "      <td>2018</td>\n",
       "      <td>January</td>\n",
       "    </tr>\n",
       "    <tr>\n",
       "      <th>1256</th>\n",
       "      <td>1176.0</td>\n",
       "      <td>NI</td>\n",
       "      <td>T&amp;R</td>\n",
       "      <td>1.111640e+06</td>\n",
       "      <td>0.196900</td>\n",
       "      <td>3492</td>\n",
       "      <td>2017</td>\n",
       "      <td>January</td>\n",
       "    </tr>\n",
       "    <tr>\n",
       "      <th>1257</th>\n",
       "      <td>1176.0</td>\n",
       "      <td>NI</td>\n",
       "      <td>T&amp;R</td>\n",
       "      <td>1.323035e+06</td>\n",
       "      <td>0.196900</td>\n",
       "      <td>3492</td>\n",
       "      <td>2018</td>\n",
       "      <td>January</td>\n",
       "    </tr>\n",
       "    <tr>\n",
       "      <th>1258</th>\n",
       "      <td>1180.0</td>\n",
       "      <td>NI</td>\n",
       "      <td>F&amp;P</td>\n",
       "      <td>5.660447e+03</td>\n",
       "      <td>-0.407532</td>\n",
       "      <td>1174</td>\n",
       "      <td>2018</td>\n",
       "      <td>January</td>\n",
       "    </tr>\n",
       "  </tbody>\n",
       "</table>\n",
       "</div>"
      ],
      "text/plain": [
       "          ID GAS MARKET_DOMAIN_DESCR  MOD_VOLUME_CONSUMPTION  Sum of Sales_CR  \\\n",
       "1254  1173.0  OX                 F&P            8.253079e+03        -0.505485   \n",
       "1255  1174.0  CB                 F&P            6.177636e+03        -0.505485   \n",
       "1256  1176.0  NI                 T&R            1.111640e+06         0.196900   \n",
       "1257  1176.0  NI                 T&R            1.323035e+06         0.196900   \n",
       "1258  1180.0  NI                 F&P            5.660447e+03        -0.407532   \n",
       "\n",
       "      ZIPcode  TIMESTAMP - Year TIMESTAMP - Month  \n",
       "1254     6370              2018           January  \n",
       "1255     6370              2018           January  \n",
       "1256     3492              2017           January  \n",
       "1257     3492              2018           January  \n",
       "1258     1174              2018           January  "
      ]
     },
     "execution_count": 51,
     "metadata": {},
     "output_type": "execute_result"
    }
   ],
   "source": [
    "data_rmNA.tail() # Index 1258"
   ]
  },
  {
   "cell_type": "code",
   "execution_count": 52,
   "metadata": {},
   "outputs": [],
   "source": [
    "# Append test data into training data\n",
    "df3 = data_rmNA.append(test_data_org)"
   ]
  },
  {
   "cell_type": "code",
   "execution_count": 59,
   "metadata": {},
   "outputs": [],
   "source": [
    "def labelCategoryToNum(data, column_name, new_col):\n",
    "    le = LabelEncoder()\n",
    "    le.fit(data[column_name])\n",
    "    data.loc[:,new_col] = le.transform(data.loc[:,column_name])\n",
    "    return data"
   ]
  },
  {
   "cell_type": "code",
   "execution_count": 60,
   "metadata": {},
   "outputs": [],
   "source": [
    "df3 = labelCategoryToNum(df3, 'GAS', 'new_GAS')"
   ]
  },
  {
   "cell_type": "code",
   "execution_count": 61,
   "metadata": {},
   "outputs": [],
   "source": [
    "df3 = labelCategoryToNum(df3, 'MARKET_DOMAIN_DESCR', 'new_MARKET_DOMAIN_DESCR')"
   ]
  },
  {
   "cell_type": "code",
   "execution_count": 62,
   "metadata": {},
   "outputs": [],
   "source": [
    "df3 = labelCategoryToNum(df3, 'TIMESTAMP - Month', 'new_TIMESTAMP - Month')"
   ]
  },
  {
   "cell_type": "code",
   "execution_count": 67,
   "metadata": {},
   "outputs": [],
   "source": [
    "# Seperate Training and Testing dataset\n",
    "test_transformed = df3[df3['MOD_VOLUME_CONSUMPTION'].isnull()]"
   ]
  },
  {
   "cell_type": "code",
   "execution_count": 69,
   "metadata": {},
   "outputs": [
    {
     "data": {
      "text/html": [
       "<div>\n",
       "<style scoped>\n",
       "    .dataframe tbody tr th:only-of-type {\n",
       "        vertical-align: middle;\n",
       "    }\n",
       "\n",
       "    .dataframe tbody tr th {\n",
       "        vertical-align: top;\n",
       "    }\n",
       "\n",
       "    .dataframe thead th {\n",
       "        text-align: right;\n",
       "    }\n",
       "</style>\n",
       "<table border=\"1\" class=\"dataframe\">\n",
       "  <thead>\n",
       "    <tr style=\"text-align: right;\">\n",
       "      <th></th>\n",
       "      <th>GAS</th>\n",
       "      <th>ID</th>\n",
       "      <th>MARKET_DOMAIN_DESCR</th>\n",
       "      <th>MOD_VOLUME_CONSUMPTION</th>\n",
       "      <th>Sum of Sales_CR</th>\n",
       "      <th>TIMESTAMP - Month</th>\n",
       "      <th>TIMESTAMP - Year</th>\n",
       "      <th>ZIPcode</th>\n",
       "      <th>new_GAS</th>\n",
       "      <th>new_MARKET_DOMAIN_DESCR</th>\n",
       "      <th>new_TIMESTAMP - Month</th>\n",
       "    </tr>\n",
       "  </thead>\n",
       "  <tbody>\n",
       "    <tr>\n",
       "      <th>0</th>\n",
       "      <td>OX</td>\n",
       "      <td>15.0</td>\n",
       "      <td>Others</td>\n",
       "      <td>NaN</td>\n",
       "      <td>0.148745</td>\n",
       "      <td>June</td>\n",
       "      <td>2017</td>\n",
       "      <td>1098.0</td>\n",
       "      <td>3</td>\n",
       "      <td>5</td>\n",
       "      <td>6</td>\n",
       "    </tr>\n",
       "    <tr>\n",
       "      <th>1</th>\n",
       "      <td>OX</td>\n",
       "      <td>15.0</td>\n",
       "      <td>Others</td>\n",
       "      <td>NaN</td>\n",
       "      <td>0.148745</td>\n",
       "      <td>January</td>\n",
       "      <td>2018</td>\n",
       "      <td>1098.0</td>\n",
       "      <td>3</td>\n",
       "      <td>5</td>\n",
       "      <td>4</td>\n",
       "    </tr>\n",
       "    <tr>\n",
       "      <th>2</th>\n",
       "      <td>OX</td>\n",
       "      <td>15.0</td>\n",
       "      <td>Others</td>\n",
       "      <td>NaN</td>\n",
       "      <td>0.148745</td>\n",
       "      <td>July</td>\n",
       "      <td>2017</td>\n",
       "      <td>1098.0</td>\n",
       "      <td>3</td>\n",
       "      <td>5</td>\n",
       "      <td>5</td>\n",
       "    </tr>\n",
       "    <tr>\n",
       "      <th>3</th>\n",
       "      <td>OX</td>\n",
       "      <td>15.0</td>\n",
       "      <td>Others</td>\n",
       "      <td>NaN</td>\n",
       "      <td>0.148745</td>\n",
       "      <td>September</td>\n",
       "      <td>2017</td>\n",
       "      <td>1098.0</td>\n",
       "      <td>3</td>\n",
       "      <td>5</td>\n",
       "      <td>11</td>\n",
       "    </tr>\n",
       "    <tr>\n",
       "      <th>4</th>\n",
       "      <td>OX</td>\n",
       "      <td>15.0</td>\n",
       "      <td>Others</td>\n",
       "      <td>NaN</td>\n",
       "      <td>0.148745</td>\n",
       "      <td>August</td>\n",
       "      <td>2017</td>\n",
       "      <td>1098.0</td>\n",
       "      <td>3</td>\n",
       "      <td>5</td>\n",
       "      <td>1</td>\n",
       "    </tr>\n",
       "  </tbody>\n",
       "</table>\n",
       "</div>"
      ],
      "text/plain": [
       "  GAS    ID MARKET_DOMAIN_DESCR  MOD_VOLUME_CONSUMPTION  Sum of Sales_CR  \\\n",
       "0  OX  15.0              Others                     NaN         0.148745   \n",
       "1  OX  15.0              Others                     NaN         0.148745   \n",
       "2  OX  15.0              Others                     NaN         0.148745   \n",
       "3  OX  15.0              Others                     NaN         0.148745   \n",
       "4  OX  15.0              Others                     NaN         0.148745   \n",
       "\n",
       "  TIMESTAMP - Month  TIMESTAMP - Year  ZIPcode  new_GAS  \\\n",
       "0              June              2017   1098.0        3   \n",
       "1           January              2018   1098.0        3   \n",
       "2              July              2017   1098.0        3   \n",
       "3         September              2017   1098.0        3   \n",
       "4            August              2017   1098.0        3   \n",
       "\n",
       "   new_MARKET_DOMAIN_DESCR  new_TIMESTAMP - Month  \n",
       "0                        5                      6  \n",
       "1                        5                      4  \n",
       "2                        5                      5  \n",
       "3                        5                     11  \n",
       "4                        5                      1  "
      ]
     },
     "execution_count": 69,
     "metadata": {},
     "output_type": "execute_result"
    }
   ],
   "source": [
    "test_transformed.head()"
   ]
  },
  {
   "cell_type": "code",
   "execution_count": 78,
   "metadata": {},
   "outputs": [],
   "source": [
    "training_transformed = df3[df3['MOD_VOLUME_CONSUMPTION'].notnull()]"
   ]
  },
  {
   "cell_type": "code",
   "execution_count": 113,
   "metadata": {},
   "outputs": [],
   "source": [
    "training_transformed .to_csv(header = True, path_or_buf=\"training_transformed.csv\", index = False)"
   ]
  },
  {
   "cell_type": "code",
   "execution_count": 114,
   "metadata": {},
   "outputs": [],
   "source": [
    "test_transformed.loc[:,'ZIPcode'] = test_transformed.loc[:,'ZIPcode'].apply(lambda x : int(x) if not pd.isnull(x) else 0)"
   ]
  },
  {
   "cell_type": "code",
   "execution_count": 115,
   "metadata": {},
   "outputs": [],
   "source": [
    "test_transformed.to_csv(header = True, path_or_buf=\"test_transformed.csv\", index = False)"
   ]
  },
  {
   "cell_type": "code",
   "execution_count": 37,
   "metadata": {},
   "outputs": [],
   "source": [
    "#data_rmNA = labelCategoryToNum(data_rmNA, 'gas', 'new_gas')"
   ]
  },
  {
   "cell_type": "code",
   "execution_count": 38,
   "metadata": {},
   "outputs": [],
   "source": [
    "#data_rmNA = labelCategoryToNum(data_rmNA, 'MARKET_DOMAIN_DESCR', 'new_MARKET_DOMAIN_DESCR')"
   ]
  },
  {
   "cell_type": "code",
   "execution_count": 39,
   "metadata": {},
   "outputs": [],
   "source": [
    "#data_rmNA = labelCategoryToNum(data_rmNA, 'TIMESTAMP - Month', 'new_TIMESTAMP - Month')"
   ]
  },
  {
   "cell_type": "code",
   "execution_count": 40,
   "metadata": {},
   "outputs": [],
   "source": [
    "#data_rmNA.head()"
   ]
  },
  {
   "cell_type": "code",
   "execution_count": 41,
   "metadata": {},
   "outputs": [],
   "source": [
    "# Extract Cleaned Data\n",
    "#columns = [\"DP_ID\",\"new_gas\", \"new_MARKET_DOMAIN_DESCR\", \"Sum of Sales_CR\", \"ZIPcode\", \"TIMESTAMP - Year\", \"new_TIMESTAMP - Month\",\"MOD_VOLUME_CONSUMPTION\"]\n",
    "#transformed_training = data_rmNA[columns]"
   ]
  },
  {
   "cell_type": "code",
   "execution_count": 42,
   "metadata": {},
   "outputs": [],
   "source": [
    "# Change colummns name in transformed_training as same as test_data\n",
    "# ID ; GAS; MARKET_DOMAIN_DESCR; Sum of Sales_CR; ZIPcode; TIMESTAMP - Year; TIMESTAMP - Month\n",
    "#transformed_training.columns = [\"ID\", \"GAS\", \"MARKET_DOMAIN_DESCR\", \"Sum of Sales_CR\",\"TIMESTAMP - Year\", \"TIMESTAMP - Month\"]"
   ]
  },
  {
   "cell_type": "code",
   "execution_count": 43,
   "metadata": {},
   "outputs": [],
   "source": [
    "#data_rmNA['gas'] = data_rmNA['gas'].astype('category')"
   ]
  },
  {
   "cell_type": "code",
   "execution_count": 44,
   "metadata": {},
   "outputs": [],
   "source": [
    "#obj_columns = data_rmNA.select_dtypes(['object']).columns\n",
    "#obj_columns"
   ]
  },
  {
   "cell_type": "code",
   "execution_count": 45,
   "metadata": {},
   "outputs": [],
   "source": [
    "#data_rmNA[obj_columns] = data_rmNA[obj_columns].apply(lambda x: x.astype('category'))"
   ]
  },
  {
   "cell_type": "code",
   "execution_count": 46,
   "metadata": {},
   "outputs": [],
   "source": [
    "#data_rmNA.dtypes"
   ]
  },
  {
   "cell_type": "code",
   "execution_count": null,
   "metadata": {},
   "outputs": [],
   "source": []
  },
  {
   "cell_type": "code",
   "execution_count": null,
   "metadata": {},
   "outputs": [],
   "source": []
  },
  {
   "cell_type": "markdown",
   "metadata": {},
   "source": [
    "## Step 2: Data Exploration"
   ]
  },
  {
   "cell_type": "code",
   "execution_count": 47,
   "metadata": {},
   "outputs": [],
   "source": [
    "import numpy as np\n",
    "import matplotlib.pyplot as plt\n",
    "import seaborn as sb"
   ]
  },
  {
   "cell_type": "code",
   "execution_count": 48,
   "metadata": {},
   "outputs": [],
   "source": [
    "# Function to draw chart for Category Variables\n",
    "def fig_category(dt, column_name, xlabel, ylabel):\n",
    "    dt_count = dt[column_name].value_counts()\n",
    "    plt.figure(figsize=(10,5))\n",
    "    plt.subplots_adjust(hspace=0.4, wspace=0.4)\n",
    "    plt.subplot(1, 2, 1) # (rows, columns, panel number)\n",
    "    sb.barplot( dt_count.values,dt_count.index, alpha=0.8)\n",
    "    plt.ylabel(ylabel)\n",
    "    plt.xlabel(xlabel)\n",
    "    plt.title(\"Bar Chart of \" + str(column_name))\n",
    "    plt.subplot(1,2,2)\n",
    "    dt_count.plot(kind='pie', autopct = '%.2f')\n",
    "    plt.title('Percentage of ' + str(column_name))\n",
    "    plt.ylabel('')\n",
    "    plt.show()"
   ]
  },
  {
   "cell_type": "markdown",
   "metadata": {},
   "source": [
    "__ CATEGORY VARIABLES __"
   ]
  },
  {
   "cell_type": "markdown",
   "metadata": {},
   "source": [
    "* *__GAS__*"
   ]
  },
  {
   "cell_type": "code",
   "execution_count": 111,
   "metadata": {
    "scrolled": true
   },
   "outputs": [
    {
     "data": {
      "image/png": "[encoded data removed]",
      "text/plain": [
       "<matplotlib.figure.Figure at 0xc713c88>"
      ]
     },
     "metadata": {},
     "output_type": "display_data"
    }
   ],
   "source": [
    "fig_category(data_rmNA, 'GAS', 'Frequency', 'GAS')"
   ]
  },
  {
   "cell_type": "markdown",
   "metadata": {},
   "source": [
    "* *__MARKET_DOMAIN_DESCR__*"
   ]
  },
  {
   "cell_type": "code",
   "execution_count": null,
   "metadata": {},
   "outputs": [],
   "source": [
    "fig_category(data_rmNA, 'MARKET_DOMAIN_DESCR', 'Frequency', 'MARKET DOMAIN')"
   ]
  },
  {
   "cell_type": "markdown",
   "metadata": {},
   "source": [
    "* *__TIMESTAMP - MONTH __*"
   ]
  },
  {
   "cell_type": "code",
   "execution_count": null,
   "metadata": {},
   "outputs": [],
   "source": [
    "fig_category(data_rmNA, 'TIMESTAMP - Month', 'Frequency', 'TIMESTAMP - Month')"
   ]
  },
  {
   "cell_type": "markdown",
   "metadata": {},
   "source": [
    "__ NUMERIC VARIABLES __"
   ]
  },
  {
   "cell_type": "code",
   "execution_count": null,
   "metadata": {},
   "outputs": [],
   "source": [
    "# Function to draw chart for Numeric Variable\n",
    "def fig_numeric(dt, col_name):\n",
    "    plt.figure(figsize=(20,8))\n",
    "    plt.subplots_adjust(hspace=0.4, wspace=0.4)\n",
    "    plt.subplot(1, 2, 1) # (rows, columns, panel number)\n",
    "    plt.hist(dt[col_name])\n",
    "    plt.title(\"Histogram of \"+ str(col_name).upper())\n",
    "    plt.xlabel(col_name.upper())\n",
    "    plt.ylabel('Frequency')\n",
    "    plt.subplot(1,2,2)\n",
    "    plt.subplots_adjust(hspace=0.4, wspace=0.4)\n",
    "    sb.boxplot(y= col_name,data=dt)\n",
    "    plt.title(\"Boxplot Chart of \" + str(col_name).upper())\n",
    "    plt.ylabel(col_name.upper())"
   ]
  },
  {
   "cell_type": "markdown",
   "metadata": {},
   "source": [
    "* *__ Sum of Sales_CR __*"
   ]
  },
  {
   "cell_type": "code",
   "execution_count": null,
   "metadata": {},
   "outputs": [],
   "source": [
    "fig_numeric(data_rmNA, 'Sum of Sales_CR')"
   ]
  },
  {
   "cell_type": "markdown",
   "metadata": {},
   "source": [
    "* *__TIMESTAMP - Year__*"
   ]
  },
  {
   "cell_type": "code",
   "execution_count": null,
   "metadata": {},
   "outputs": [],
   "source": [
    "fig_numeric(data_rmNA, 'TIMESTAMP - Year')"
   ]
  },
  {
   "cell_type": "markdown",
   "metadata": {},
   "source": [
    "## Step 5: Building Model"
   ]
  },
  {
   "cell_type": "markdown",
   "metadata": {},
   "source": [
    "### Approach 1: no feature selection and Tunning"
   ]
  },
  {
   "cell_type": "markdown",
   "metadata": {},
   "source": [
    "#### *Method: Gradient Boosting*"
   ]
  },
  {
   "cell_type": "code",
   "execution_count": 72,
   "metadata": {},
   "outputs": [],
   "source": [
    "from sklearn.ensemble import GradientBoostingRegressor"
   ]
  },
  {
   "cell_type": "code",
   "execution_count": 70,
   "metadata": {},
   "outputs": [],
   "source": [
    "features = [\"new_GAS\", \"new_MARKET_DOMAIN_DESCR\", \"Sum of Sales_CR\", \"ZIPcode\", \"TIMESTAMP - Year\", \"new_TIMESTAMP - Month\"]\n",
    "target = [\"MOD_VOLUME_CONSUMPTION\"]"
   ]
  },
  {
   "cell_type": "code",
   "execution_count": 73,
   "metadata": {},
   "outputs": [],
   "source": [
    "model = GradientBoostingRegressor(n_estimators=100, learning_rate=1.0, max_depth=3, random_state=0)"
   ]
  },
  {
   "cell_type": "code",
   "execution_count": 79,
   "metadata": {},
   "outputs": [],
   "source": [
    "X = training_transformed[features]\n",
    "y = training_transformed[target]\n",
    "#print X.dtypes"
   ]
  },
  {
   "cell_type": "code",
   "execution_count": 80,
   "metadata": {},
   "outputs": [
    {
     "name": "stderr",
     "output_type": "stream",
     "text": [
      "D:\\Tools\\Anacoda2\\lib\\site-packages\\sklearn\\utils\\validation.py:578: DataConversionWarning: A column-vector y was passed when a 1d array was expected. Please change the shape of y to (n_samples, ), for example using ravel().\n",
      "  y = column_or_1d(y, warn=True)\n"
     ]
    },
    {
     "data": {
      "text/plain": [
       "GradientBoostingRegressor(alpha=0.9, criterion='friedman_mse', init=None,\n",
       "             learning_rate=1.0, loss='ls', max_depth=3, max_features=None,\n",
       "             max_leaf_nodes=None, min_impurity_decrease=0.0,\n",
       "             min_impurity_split=None, min_samples_leaf=1,\n",
       "             min_samples_split=2, min_weight_fraction_leaf=0.0,\n",
       "             n_estimators=100, presort='auto', random_state=0,\n",
       "             subsample=1.0, verbose=0, warm_start=False)"
      ]
     },
     "execution_count": 80,
     "metadata": {},
     "output_type": "execute_result"
    }
   ],
   "source": [
    "model.fit(X,y)"
   ]
  },
  {
   "cell_type": "code",
   "execution_count": 81,
   "metadata": {},
   "outputs": [],
   "source": [
    "X_test = test_transformed[features]"
   ]
  },
  {
   "cell_type": "code",
   "execution_count": 85,
   "metadata": {},
   "outputs": [],
   "source": [
    "X_test.loc[:,'ZIPcode'] = X_test.loc[:,'ZIPcode'].apply(lambda x : int(x) if not pd.isnull(x) else 0)"
   ]
  },
  {
   "cell_type": "code",
   "execution_count": 86,
   "metadata": {},
   "outputs": [
    {
     "data": {
      "text/html": [
       "<div>\n",
       "<style scoped>\n",
       "    .dataframe tbody tr th:only-of-type {\n",
       "        vertical-align: middle;\n",
       "    }\n",
       "\n",
       "    .dataframe tbody tr th {\n",
       "        vertical-align: top;\n",
       "    }\n",
       "\n",
       "    .dataframe thead th {\n",
       "        text-align: right;\n",
       "    }\n",
       "</style>\n",
       "<table border=\"1\" class=\"dataframe\">\n",
       "  <thead>\n",
       "    <tr style=\"text-align: right;\">\n",
       "      <th></th>\n",
       "      <th>new_GAS</th>\n",
       "      <th>new_MARKET_DOMAIN_DESCR</th>\n",
       "      <th>Sum of Sales_CR</th>\n",
       "      <th>ZIPcode</th>\n",
       "      <th>TIMESTAMP - Year</th>\n",
       "      <th>new_TIMESTAMP - Month</th>\n",
       "    </tr>\n",
       "  </thead>\n",
       "  <tbody>\n",
       "    <tr>\n",
       "      <th>count</th>\n",
       "      <td>528.000000</td>\n",
       "      <td>528.000000</td>\n",
       "      <td>528.000000</td>\n",
       "      <td>528.000000</td>\n",
       "      <td>528.000000</td>\n",
       "      <td>528.000000</td>\n",
       "    </tr>\n",
       "    <tr>\n",
       "      <th>mean</th>\n",
       "      <td>1.939394</td>\n",
       "      <td>3.702652</td>\n",
       "      <td>0.111349</td>\n",
       "      <td>4541.284091</td>\n",
       "      <td>2017.125000</td>\n",
       "      <td>6.015152</td>\n",
       "    </tr>\n",
       "    <tr>\n",
       "      <th>std</th>\n",
       "      <td>0.649128</td>\n",
       "      <td>2.169443</td>\n",
       "      <td>1.148806</td>\n",
       "      <td>2389.482378</td>\n",
       "      <td>0.331033</td>\n",
       "      <td>3.460232</td>\n",
       "    </tr>\n",
       "    <tr>\n",
       "      <th>min</th>\n",
       "      <td>0.000000</td>\n",
       "      <td>0.000000</td>\n",
       "      <td>-0.600047</td>\n",
       "      <td>0.000000</td>\n",
       "      <td>2017.000000</td>\n",
       "      <td>1.000000</td>\n",
       "    </tr>\n",
       "    <tr>\n",
       "      <th>25%</th>\n",
       "      <td>2.000000</td>\n",
       "      <td>2.000000</td>\n",
       "      <td>-0.548562</td>\n",
       "      <td>1549.000000</td>\n",
       "      <td>2017.000000</td>\n",
       "      <td>4.000000</td>\n",
       "    </tr>\n",
       "    <tr>\n",
       "      <th>50%</th>\n",
       "      <td>2.000000</td>\n",
       "      <td>4.000000</td>\n",
       "      <td>-0.445163</td>\n",
       "      <td>5288.000000</td>\n",
       "      <td>2017.000000</td>\n",
       "      <td>6.000000</td>\n",
       "    </tr>\n",
       "    <tr>\n",
       "      <th>75%</th>\n",
       "      <td>2.000000</td>\n",
       "      <td>6.000000</td>\n",
       "      <td>0.369085</td>\n",
       "      <td>6370.750000</td>\n",
       "      <td>2017.000000</td>\n",
       "      <td>9.250000</td>\n",
       "    </tr>\n",
       "    <tr>\n",
       "      <th>max</th>\n",
       "      <td>3.000000</td>\n",
       "      <td>6.000000</td>\n",
       "      <td>4.276620</td>\n",
       "      <td>7975.000000</td>\n",
       "      <td>2018.000000</td>\n",
       "      <td>11.000000</td>\n",
       "    </tr>\n",
       "  </tbody>\n",
       "</table>\n",
       "</div>"
      ],
      "text/plain": [
       "          new_GAS  new_MARKET_DOMAIN_DESCR  Sum of Sales_CR      ZIPcode  \\\n",
       "count  528.000000               528.000000       528.000000   528.000000   \n",
       "mean     1.939394                 3.702652         0.111349  4541.284091   \n",
       "std      0.649128                 2.169443         1.148806  2389.482378   \n",
       "min      0.000000                 0.000000        -0.600047     0.000000   \n",
       "25%      2.000000                 2.000000        -0.548562  1549.000000   \n",
       "50%      2.000000                 4.000000        -0.445163  5288.000000   \n",
       "75%      2.000000                 6.000000         0.369085  6370.750000   \n",
       "max      3.000000                 6.000000         4.276620  7975.000000   \n",
       "\n",
       "       TIMESTAMP - Year  new_TIMESTAMP - Month  \n",
       "count        528.000000             528.000000  \n",
       "mean        2017.125000               6.015152  \n",
       "std            0.331033               3.460232  \n",
       "min         2017.000000               1.000000  \n",
       "25%         2017.000000               4.000000  \n",
       "50%         2017.000000               6.000000  \n",
       "75%         2017.000000               9.250000  \n",
       "max         2018.000000              11.000000  "
      ]
     },
     "execution_count": 86,
     "metadata": {},
     "output_type": "execute_result"
    }
   ],
   "source": [
    "X_test.describe()"
   ]
  },
  {
   "cell_type": "code",
   "execution_count": 87,
   "metadata": {},
   "outputs": [],
   "source": [
    "predicted = model.predict(X_test)"
   ]
  },
  {
   "cell_type": "code",
   "execution_count": 88,
   "metadata": {},
   "outputs": [
    {
     "name": "stdout",
     "output_type": "stream",
     "text": [
      "[ 5.06394160e+04  6.23848302e+05  8.95367417e+04 -4.46947566e+04\n",
      "  1.13406782e+05 -8.12280309e+03 -3.29181188e+04  1.50775851e+05\n",
      " -1.69761255e+05  1.54275934e+05  3.15981337e+05  1.75626695e+05\n",
      "  2.95793657e+05 -1.27240277e+05  2.65332424e+05  6.16806418e+04\n",
      "  1.12880398e+05  1.90899193e+05  1.16542957e+05  1.68522129e+05\n",
      "  1.68658948e+05  1.72648225e+05  8.45251775e+04  6.88706835e+04\n",
      " -8.70577425e+04  4.15269066e+04  7.79464191e+04  7.29967790e+04\n",
      "  1.27277852e+05  6.07324055e+04  4.80502104e+05  5.52462850e+05\n",
      "  3.68988879e+05  5.94882992e+05  3.89602854e+05  5.44234079e+05\n",
      "  5.22379601e+05  3.65412864e+05  3.00437796e+05  3.08368630e+05\n",
      "  4.77138672e+05  3.07175738e+05  4.05715515e+05  3.92736932e+05\n",
      "  5.24431019e+05  4.55406143e+05 -2.28147145e+05  1.04567136e+05\n",
      "  6.21427393e+04  1.08693232e+05  4.99514017e+04  2.41356758e+04\n",
      "  1.16138919e+05  1.43361181e+05  5.81890414e+05  1.33699127e+06\n",
      "  1.32770225e+06  1.54840198e+06  1.13256206e+06  1.43694609e+06\n",
      "  1.72162968e+06  1.09889634e+06  3.40765274e+05 -3.33463128e+05\n",
      "  2.50704135e+05  2.26968829e+05  2.09351981e+05  1.77285493e+05\n",
      "  5.31115055e+04  1.77457584e+04  3.26055099e+04  1.90899193e+05\n",
      "  1.16542957e+05  1.68522129e+05  1.68658948e+05  1.72648225e+05\n",
      " -3.01067551e+05  1.12880398e+05  2.35539548e+05  1.95081317e+05\n",
      "  1.92510693e+05  1.75888577e+05  1.31507163e+05  1.62909994e+05\n",
      "  1.97577944e+05  6.96217776e+04  1.70355682e+05  5.84289524e+05\n",
      " -1.16602690e+05 -3.59157397e+04  2.08040444e+05 -1.26741961e+05\n",
      "  1.15240824e+05  1.05864865e+05 -1.94280732e+05  1.04794156e+05\n",
      "  1.71411336e+05  1.19351574e+05  1.59828644e+05  1.48505964e+05\n",
      "  1.34314884e+05  1.97642011e+05  1.63954739e+05  3.40765274e+05\n",
      "  4.96288571e+05  7.16603597e+04  8.87183221e+03 -9.68222730e+03\n",
      "  7.01814265e+04  5.25291883e+04  7.57864552e+04  8.28494751e+04\n",
      " -4.39835226e+05  1.68869400e+05  1.43416077e+05  1.16647802e+05\n",
      "  1.36353057e+05  7.16636810e+04  1.70098674e+05  1.49331640e+05\n",
      " -1.86216058e+05 -7.77047265e+04  1.18845076e+05  1.43755384e+05\n",
      "  1.83465198e+05  1.58302319e+05  9.82673158e+05  2.19986043e+05\n",
      "  1.33699127e+06  1.32770225e+06  5.81890414e+05  1.43694609e+06\n",
      "  1.09889634e+06  1.13256206e+06  1.54840198e+06  1.72162968e+06\n",
      "  1.05333778e+06  1.10702988e+06  1.06950129e+06  1.00935386e+06\n",
      "  1.07245738e+06  9.94951040e+05  1.14272352e+06  9.99551886e+05\n",
      "  9.75299327e+05  3.00884648e+05  3.01806587e+05  5.80273148e+05\n",
      "  6.59314339e+05  3.12661286e+05  5.67176798e+05  1.59049123e+05\n",
      "  1.90408945e+05  4.76191445e+05  6.26997399e+04  1.76095235e+05\n",
      "  1.32597169e+05  1.41077511e+05  7.64902702e+04  9.70540439e+04\n",
      "  3.62885818e+04  2.66451454e+03 -1.38048767e+04  4.37342691e+04\n",
      " -3.96206025e+04  3.21624863e+04 -1.61353908e+03  7.09565312e+04\n",
      "  3.29687601e+04  1.01522888e+06  5.77640758e+04  6.07106354e+05\n",
      "  2.60007644e+06  8.83819761e+05  2.07796848e+06  2.33092700e+06\n",
      "  2.01962166e+06  2.72694142e+06  2.89950236e+06  2.69840481e+06\n",
      "  1.59849610e+05  2.02592263e+05  1.89815897e+04 -2.69397884e+05\n",
      " -1.72231852e+04  1.63135020e+05  1.36423178e+05  1.81271851e+05\n",
      "  5.17784823e+04  3.03333894e+04 -1.01867881e+05  4.32536313e+04\n",
      " -1.09883631e+05  6.61626685e+04 -3.18986896e+04  1.19420476e+05\n",
      " -2.90411904e+05 -3.25442678e+03 -1.06866434e+05  1.22075243e+05\n",
      "  4.32073030e+05  4.48578640e+05  6.24365894e+05  9.30251288e+04\n",
      "  6.78917176e+05  4.32874458e+05  3.12564523e+05  3.77708721e+05\n",
      "  9.80905643e+05  1.00479848e+06  1.05676246e+06  1.78463301e+06\n",
      "  1.68202586e+06  1.92438759e+06  1.80775317e+06  1.90859745e+06\n",
      " -2.37956473e+05  1.97534535e+05  3.34312533e+05  2.67431933e+05\n",
      "  2.37896585e+05  2.54934492e+05  3.12252821e+05  2.50808397e+05\n",
      " -1.28413182e+05  3.60351688e+05  5.21860208e+05  3.09965239e+05\n",
      "  4.61709400e+05  4.66064014e+05  3.73629804e+05  3.64477784e+05\n",
      "  2.61186924e+05  6.22914674e+04  1.59976679e+05  3.66903531e+05\n",
      "  3.16071846e+05  3.31793199e+05  3.27389547e+05  2.68221937e+05\n",
      "  8.86369248e+05  4.66408334e+05  7.30324011e+05  4.54631696e+05\n",
      "  5.41207026e+05  5.80104351e+05  4.91203649e+05  2.42148440e+05\n",
      "  5.92522219e+05  4.69863069e+05  5.59151202e+04  5.12231850e+05\n",
      "  4.50283880e+05  5.25641619e+05  5.29630896e+05  5.25504800e+05\n",
      "  6.16534792e+05  1.13639604e+06  7.48247299e+05  9.27387812e+05\n",
      "  1.00606394e+06  7.81137623e+05  1.14357997e+06  9.81643246e+05\n",
      "  1.05676246e+06  1.78463301e+06  9.80905643e+05  1.68202586e+06\n",
      "  1.00479848e+06  1.90859745e+06  1.92438759e+06  1.80775317e+06\n",
      " -4.32581272e+05  1.73706065e+04 -2.15267192e+04 -7.55429903e+04\n",
      "  7.83708711e+04 -1.94360918e+04 -1.18024166e+05  2.90394377e+04\n",
      "  5.05201446e+05  5.62418390e+05  7.04318293e+05  5.15184950e+05\n",
      "  5.16246390e+05  5.54961793e+05  5.35196128e+05  5.50835698e+05\n",
      "  6.00155986e+04  4.17680090e+04  1.79863376e+04  9.27910882e+04\n",
      "  2.51365749e+04  5.56946358e+04  2.87068332e+03 -1.15865680e+04\n",
      "  1.08177832e+06  9.76500602e+05  8.83764645e+05  1.06879974e+06\n",
      "  1.15275627e+06  7.23125974e+05  1.08647236e+06  9.63634732e+05\n",
      "  6.52944329e+05  3.42261265e+05  3.28931059e+05  4.20632590e+05\n",
      "  3.53115963e+05  4.64603791e+05  3.75179934e+05  3.96689723e+05\n",
      " -2.37956473e+05  1.97534535e+05  2.54934492e+05  2.50808397e+05\n",
      "  3.34312533e+05  2.37896585e+05  2.67431933e+05  3.12252821e+05\n",
      "  2.16960119e+05  5.16849217e+05  3.36086264e+05  2.30681425e+05\n",
      "  2.49310447e+05  3.97540851e+05  4.53422195e+05  1.49331640e+05\n",
      " -4.39835226e+05  1.68869400e+05  1.43416077e+05  7.16636810e+04\n",
      "  1.16647802e+05  1.36353057e+05  1.70098674e+05  3.00646569e+05\n",
      "  4.16015115e+05  3.22227830e+05  4.02262016e+05  3.39543895e+05\n",
      "  1.99786609e+05  4.52738258e+05  3.11597337e+05  1.13893256e+06\n",
      "  1.25386554e+06  1.16000021e+06  1.28353122e+06  1.15809424e+06\n",
      "  1.17848128e+06  1.09509258e+06  1.19126206e+06  8.05646747e+04\n",
      "  1.10991139e+05 -9.68248979e+04  3.43790585e+05  2.93300579e+05\n",
      "  1.98563781e+05  2.21683942e+05  4.05403217e+05 -1.31042405e+05\n",
      "  2.16647442e+05  2.28563256e+05  2.20773537e+05  2.18861447e+05\n",
      "  2.46083709e+05  1.19366744e+05  1.46080228e+05  5.62418390e+05\n",
      "  5.54961793e+05  5.50835698e+05  5.15184950e+05  7.04318293e+05\n",
      "  5.35196128e+05  5.16246390e+05  5.05201446e+05  5.35196128e+05\n",
      "  5.16246390e+05  5.15184950e+05  5.54961793e+05  7.04318293e+05\n",
      "  5.50835698e+05  5.05201446e+05  5.62418390e+05  5.49065332e+04\n",
      "  2.22937082e+05  1.15557967e+05  8.42315098e+04  2.76194890e+05\n",
      "  1.90710288e+05  2.08552896e+05  2.36737647e+05  5.81890414e+05\n",
      "  1.33699127e+06  1.54840198e+06  1.13256206e+06  1.09889634e+06\n",
      "  1.32770225e+06  1.72162968e+06  1.43694609e+06  7.29761855e+04\n",
      "  9.49996466e+04  9.08735511e+04  3.58390627e+04  1.12433428e+05\n",
      "  3.52487520e+04  1.01096414e+04  2.88167818e+04  5.17784823e+04\n",
      "  3.03333894e+04 -1.01867881e+05  4.32536313e+04  6.61626685e+04\n",
      " -1.09883631e+05  1.19420476e+05 -3.18986896e+04 -1.12672700e+04\n",
      " -1.12799878e+03  7.95589514e+04 -5.60539310e+05  7.90754842e+04\n",
      "  5.13039282e+04  1.00635362e+05  8.32015796e+04  7.56783482e+05\n",
      "  3.89450390e+05  7.60909578e+05  6.39429012e+05  7.18117053e+05\n",
      "  6.93932149e+05  8.67738748e+05  5.71120072e+05 -7.23207463e+03\n",
      "  9.31352004e+04 -2.59392150e+04  5.36779574e+04  7.15753231e+04\n",
      " -2.22160494e+04  7.57014186e+04 -5.29520526e+04  9.80905643e+05\n",
      "  1.90859745e+06  1.05676246e+06  1.92438759e+06  1.68202586e+06\n",
      "  1.00479848e+06  1.80775317e+06  1.78463301e+06  3.40765274e+05\n",
      "  1.31114484e+05  7.71183040e+04 -2.28147145e+05  6.49269664e+04\n",
      "  3.91112405e+04  1.19542701e+05  1.58336746e+05  1.23668796e+05\n",
      "  2.94824310e+05  6.80596364e+04  2.91623107e+04 -1.24695543e+05\n",
      "  1.29059901e+05  7.97284676e+04 -8.35197063e+02 -3.08302172e+04\n",
      "  2.06609751e+04  9.88127774e+04  7.39019328e+04  6.20509716e+04\n",
      "  1.26035040e+05  1.14452348e+05  6.28569883e+04  1.18578443e+05\n",
      "  2.06609751e+04  6.20509716e+04  7.39019328e+04  6.28569883e+04\n",
      "  9.88127774e+04  1.26035040e+05  1.18578443e+05  1.14452348e+05\n",
      " -5.47791429e+05  1.16198819e+04  1.13383242e+05  1.10207956e+05\n",
      "  6.40518089e+04  1.93817343e+04  9.18233649e+04  9.59494604e+04\n",
      "  4.97558234e+05  2.08114447e+05  3.14364316e+05  4.41711360e+05\n",
      "  2.71830804e+05  4.42506730e+05  4.37691324e+05  4.37555418e+05\n",
      "  4.97558234e+05  4.41711360e+05  2.08114447e+05  3.14364316e+05\n",
      "  2.71830804e+05  4.42506730e+05  4.37691324e+05  4.37555418e+05\n",
      "  4.97558234e+05  2.08114447e+05  3.14364316e+05  2.71830804e+05\n",
      "  4.41711360e+05  4.42506730e+05  4.37555418e+05  4.37691324e+05\n",
      " -2.82320957e+05  3.21715417e+04  1.04782343e+05  6.53250998e+04\n",
      "  6.94949852e+04 -1.42901343e+04  6.53688897e+04 -4.56165918e+04\n",
      "  5.81890414e+05  1.32770225e+06  1.33699127e+06  1.43694609e+06\n",
      "  1.09889634e+06  1.72162968e+06  1.13256206e+06  1.54840198e+06]\n"
     ]
    }
   ],
   "source": [
    "print predicted"
   ]
  },
  {
   "cell_type": "code",
   "execution_count": 94,
   "metadata": {},
   "outputs": [],
   "source": [
    "result = pd.DataFrame(predicted, columns=[\"MOD_VOLUME_CONSUMPTION\"])"
   ]
  },
  {
   "cell_type": "code",
   "execution_count": 95,
   "metadata": {},
   "outputs": [
    {
     "data": {
      "text/html": [
       "<div>\n",
       "<style scoped>\n",
       "    .dataframe tbody tr th:only-of-type {\n",
       "        vertical-align: middle;\n",
       "    }\n",
       "\n",
       "    .dataframe tbody tr th {\n",
       "        vertical-align: top;\n",
       "    }\n",
       "\n",
       "    .dataframe thead th {\n",
       "        text-align: right;\n",
       "    }\n",
       "</style>\n",
       "<table border=\"1\" class=\"dataframe\">\n",
       "  <thead>\n",
       "    <tr style=\"text-align: right;\">\n",
       "      <th></th>\n",
       "      <th>MOD_VOLUME_CONSUMPTION</th>\n",
       "    </tr>\n",
       "  </thead>\n",
       "  <tbody>\n",
       "    <tr>\n",
       "      <th>0</th>\n",
       "      <td>50639.416016</td>\n",
       "    </tr>\n",
       "    <tr>\n",
       "      <th>1</th>\n",
       "      <td>623848.301740</td>\n",
       "    </tr>\n",
       "    <tr>\n",
       "      <th>2</th>\n",
       "      <td>89536.741736</td>\n",
       "    </tr>\n",
       "    <tr>\n",
       "      <th>3</th>\n",
       "      <td>-44694.756575</td>\n",
       "    </tr>\n",
       "    <tr>\n",
       "      <th>4</th>\n",
       "      <td>113406.781744</td>\n",
       "    </tr>\n",
       "  </tbody>\n",
       "</table>\n",
       "</div>"
      ],
      "text/plain": [
       "   MOD_VOLUME_CONSUMPTION\n",
       "0            50639.416016\n",
       "1           623848.301740\n",
       "2            89536.741736\n",
       "3           -44694.756575\n",
       "4           113406.781744"
      ]
     },
     "execution_count": 95,
     "metadata": {},
     "output_type": "execute_result"
    }
   ],
   "source": [
    "result.head()"
   ]
  },
  {
   "cell_type": "code",
   "execution_count": 101,
   "metadata": {},
   "outputs": [],
   "source": [
    "result.to_csv(header = True, path_or_buf=\"result_GradientBoosting.csv\", index = False)\n",
    "# Public Score : 3470.22748469 "
   ]
  },
  {
   "cell_type": "markdown",
   "metadata": {},
   "source": [
    "*__Method 2: Linear Regression__*"
   ]
  },
  {
   "cell_type": "code",
   "execution_count": 103,
   "metadata": {},
   "outputs": [],
   "source": [
    "from sklearn import linear_model"
   ]
  },
  {
   "cell_type": "code",
   "execution_count": 104,
   "metadata": {},
   "outputs": [],
   "source": [
    "linear = linear_model.LinearRegression()"
   ]
  },
  {
   "cell_type": "code",
   "execution_count": 105,
   "metadata": {},
   "outputs": [
    {
     "data": {
      "text/plain": [
       "LinearRegression(copy_X=True, fit_intercept=True, n_jobs=1, normalize=False)"
      ]
     },
     "execution_count": 105,
     "metadata": {},
     "output_type": "execute_result"
    }
   ],
   "source": [
    "linear.fit(X, y)"
   ]
  },
  {
   "cell_type": "code",
   "execution_count": 106,
   "metadata": {},
   "outputs": [
    {
     "data": {
      "text/plain": [
       "0.15473950766844635"
      ]
     },
     "execution_count": 106,
     "metadata": {},
     "output_type": "execute_result"
    }
   ],
   "source": [
    "linear.score(X, y)"
   ]
  },
  {
   "cell_type": "code",
   "execution_count": 107,
   "metadata": {},
   "outputs": [],
   "source": [
    "linear_predicted = linear.predict(X_test)"
   ]
  },
  {
   "cell_type": "code",
   "execution_count": 109,
   "metadata": {},
   "outputs": [],
   "source": [
    "result_linear = pd.DataFrame(predicted, columns=[\"MOD_VOLUME_CONSUMPTION\"])"
   ]
  },
  {
   "cell_type": "code",
   "execution_count": 110,
   "metadata": {},
   "outputs": [],
   "source": [
    "result_linear.to_csv(header = True, path_or_buf=\"result_Linear.csv\", index = False)"
   ]
  },
  {
   "cell_type": "markdown",
   "metadata": {},
   "source": [
    "### Approach 2: apply Feature Selection and Tunning"
   ]
  },
  {
   "cell_type": "code",
   "execution_count": 116,
   "metadata": {},
   "outputs": [],
   "source": [
    "from hyperopt import hp, fmin, tpe\n",
    "from hyperopt.pyll import scope"
   ]
  },
  {
   "cell_type": "markdown",
   "metadata": {},
   "source": [
    "#### Create Objective function"
   ]
  },
  {
   "cell_type": "code",
   "execution_count": 122,
   "metadata": {},
   "outputs": [],
   "source": [
    "from sklearn.metrics.regression import mean_absolute_error as mae\n",
    "from sklearn.metrics import make_scorer\n",
    "from sklearn.model_selection import cross_val_score\n",
    "import numpy as np"
   ]
  },
  {
   "cell_type": "code",
   "execution_count": 123,
   "metadata": {},
   "outputs": [],
   "source": [
    "def objective_function_regression(estimator):\n",
    "    mae_array = cross_val_score( estimator, X, y, cv= 3, n_jobs=-1, scoring = make_scorer(mae) )\n",
    "    return np.mean(mae_array)"
   ]
  },
  {
   "cell_type": "markdown",
   "metadata": {},
   "source": [
    "#### Define Search Space and estimators"
   ]
  },
  {
   "cell_type": "code",
   "execution_count": 117,
   "metadata": {},
   "outputs": [
    {
     "data": {
      "text/plain": [
       "sklearn.ensemble.gradient_boosting.GradientBoostingRegressor"
      ]
     },
     "execution_count": 117,
     "metadata": {},
     "output_type": "execute_result"
    }
   ],
   "source": [
    "# hyperopt object for \n",
    "scope.define(GradientBoostingRegressor)"
   ]
  },
  {
   "cell_type": "code",
   "execution_count": 118,
   "metadata": {},
   "outputs": [],
   "source": [
    "# search space\n",
    "n_estimators  = hp.randint('n_estimators',1000) \n",
    "learning_rate = hp.loguniform('learning_rate',-3,1)\n",
    "max_depth     = hp.randint('max_depth', 10)\n",
    "max_features =  hp.randint('max_features',X.shape[1]-1)\n",
    "min_samples_leaf = hp.randint('min_samples_leaf', 10)"
   ]
  },
  {
   "cell_type": "code",
   "execution_count": 120,
   "metadata": {},
   "outputs": [],
   "source": [
    "# model / estimator to be optimized\n",
    "est0 = (0.1, scope.GradientBoostingRegressor( n_estimators  = n_estimators + 1,\n",
    "                                            learning_rate = learning_rate,\n",
    "                                            max_depth = max_depth + 1,\n",
    "                                            max_features = max_features + 1,\n",
    "                                            min_samples_leaf = min_samples_leaf + 1,\n",
    "                                            random_state=42)) "
   ]
  },
  {
   "cell_type": "code",
   "execution_count": 121,
   "metadata": {},
   "outputs": [],
   "source": [
    "# search space\n",
    "search_space_regression = hp.pchoice('estimator', [est0])"
   ]
  },
  {
   "cell_type": "markdown",
   "metadata": {},
   "source": [
    "#### Perform Optimization"
   ]
  },
  {
   "cell_type": "code",
   "execution_count": 127,
   "metadata": {},
   "outputs": [
    {
     "ename": "TypeError",
     "evalue": "'generator' object has no attribute '__getitem__'",
     "output_type": "error",
     "traceback": [
      "\u001b[1;31m---------------------------------------------------------------------------\u001b[0m",
      "\u001b[1;31mTypeError\u001b[0m                                 Traceback (most recent call last)",
      "\u001b[1;32m<ipython-input-127-0e6cf39c7f8d>\u001b[0m in \u001b[0;36m<module>\u001b[1;34m()\u001b[0m\n\u001b[0;32m      4\u001b[0m     \u001b[0malgo\u001b[0m \u001b[1;33m=\u001b[0m \u001b[0mtpe\u001b[0m\u001b[1;33m.\u001b[0m\u001b[0msuggest\u001b[0m\u001b[1;33m,\u001b[0m \u001b[1;31m# This is the optimization algorithm hyperopt uses, a tree of parzen estimators\u001b[0m\u001b[1;33m\u001b[0m\u001b[0m\n\u001b[0;32m      5\u001b[0m     \u001b[0mmax_evals\u001b[0m \u001b[1;33m=\u001b[0m \u001b[1;36m100\u001b[0m\u001b[1;33m,\u001b[0m\u001b[1;33m\u001b[0m\u001b[0m\n\u001b[1;32m----> 6\u001b[1;33m     \u001b[0mverbose\u001b[0m \u001b[1;33m=\u001b[0m \u001b[1;36m2\u001b[0m  \u001b[1;31m# The number of iterations\u001b[0m\u001b[1;33m\u001b[0m\u001b[0m\n\u001b[0m\u001b[0;32m      7\u001b[0m          )\n",
      "\u001b[1;32mD:\\Tools\\Anacoda2\\lib\\site-packages\\hyperopt\\fmin.pyc\u001b[0m in \u001b[0;36mfmin\u001b[1;34m(fn, space, algo, max_evals, trials, rstate, allow_trials_fmin, pass_expr_memo_ctrl, catch_eval_exceptions, verbose, return_argmin)\u001b[0m\n\u001b[0;32m    312\u001b[0m \u001b[1;33m\u001b[0m\u001b[0m\n\u001b[0;32m    313\u001b[0m     domain = base.Domain(fn, space,\n\u001b[1;32m--> 314\u001b[1;33m                          pass_expr_memo_ctrl=pass_expr_memo_ctrl)\n\u001b[0m\u001b[0;32m    315\u001b[0m \u001b[1;33m\u001b[0m\u001b[0m\n\u001b[0;32m    316\u001b[0m     rval = FMinIter(algo, domain, trials, max_evals=max_evals,\n",
      "\u001b[1;32mD:\\Tools\\Anacoda2\\lib\\site-packages\\hyperopt\\base.pyc\u001b[0m in \u001b[0;36m__init__\u001b[1;34m(self, fn, expr, workdir, pass_expr_memo_ctrl, name, loss_target)\u001b[0m\n\u001b[0;32m    784\u001b[0m         \u001b[0mbefore\u001b[0m \u001b[1;33m=\u001b[0m \u001b[0mpyll\u001b[0m\u001b[1;33m.\u001b[0m\u001b[0mdfs\u001b[0m\u001b[1;33m(\u001b[0m\u001b[0mself\u001b[0m\u001b[1;33m.\u001b[0m\u001b[0mexpr\u001b[0m\u001b[1;33m)\u001b[0m\u001b[1;33m\u001b[0m\u001b[0m\n\u001b[0;32m    785\u001b[0m         \u001b[1;31m# -- raises exception if expr contains cycles\u001b[0m\u001b[1;33m\u001b[0m\u001b[1;33m\u001b[0m\u001b[0m\n\u001b[1;32m--> 786\u001b[1;33m         \u001b[0mpyll\u001b[0m\u001b[1;33m.\u001b[0m\u001b[0mtoposort\u001b[0m\u001b[1;33m(\u001b[0m\u001b[0mself\u001b[0m\u001b[1;33m.\u001b[0m\u001b[0mexpr\u001b[0m\u001b[1;33m)\u001b[0m\u001b[1;33m\u001b[0m\u001b[0m\n\u001b[0m\u001b[0;32m    787\u001b[0m         \u001b[0mvh\u001b[0m \u001b[1;33m=\u001b[0m \u001b[0mself\u001b[0m\u001b[1;33m.\u001b[0m\u001b[0mvh\u001b[0m \u001b[1;33m=\u001b[0m \u001b[0mVectorizeHelper\u001b[0m\u001b[1;33m(\u001b[0m\u001b[0mself\u001b[0m\u001b[1;33m.\u001b[0m\u001b[0mexpr\u001b[0m\u001b[1;33m,\u001b[0m \u001b[0mself\u001b[0m\u001b[1;33m.\u001b[0m\u001b[0ms_new_ids\u001b[0m\u001b[1;33m)\u001b[0m\u001b[1;33m\u001b[0m\u001b[0m\n\u001b[0;32m    788\u001b[0m         \u001b[1;31m# -- raises exception if v_expr contains cycles\u001b[0m\u001b[1;33m\u001b[0m\u001b[1;33m\u001b[0m\u001b[0m\n",
      "\u001b[1;32mD:\\Tools\\Anacoda2\\lib\\site-packages\\hyperopt\\pyll\\base.pyc\u001b[0m in \u001b[0;36mtoposort\u001b[1;34m(expr)\u001b[0m\n\u001b[0;32m    713\u001b[0m         \u001b[0mG\u001b[0m\u001b[1;33m.\u001b[0m\u001b[0madd_edges_from\u001b[0m\u001b[1;33m(\u001b[0m\u001b[1;33m[\u001b[0m\u001b[1;33m(\u001b[0m\u001b[0mn_in\u001b[0m\u001b[1;33m,\u001b[0m \u001b[0mnode\u001b[0m\u001b[1;33m)\u001b[0m \u001b[1;32mfor\u001b[0m \u001b[0mn_in\u001b[0m \u001b[1;32min\u001b[0m \u001b[0mnode\u001b[0m\u001b[1;33m.\u001b[0m\u001b[0minputs\u001b[0m\u001b[1;33m(\u001b[0m\u001b[1;33m)\u001b[0m\u001b[1;33m]\u001b[0m\u001b[1;33m)\u001b[0m\u001b[1;33m\u001b[0m\u001b[0m\n\u001b[0;32m    714\u001b[0m     \u001b[0morder\u001b[0m \u001b[1;33m=\u001b[0m \u001b[0mnx\u001b[0m\u001b[1;33m.\u001b[0m\u001b[0mtopological_sort\u001b[0m\u001b[1;33m(\u001b[0m\u001b[0mG\u001b[0m\u001b[1;33m)\u001b[0m\u001b[1;33m\u001b[0m\u001b[0m\n\u001b[1;32m--> 715\u001b[1;33m     \u001b[1;32massert\u001b[0m \u001b[0morder\u001b[0m\u001b[1;33m[\u001b[0m\u001b[1;33m-\u001b[0m\u001b[1;36m1\u001b[0m\u001b[1;33m]\u001b[0m \u001b[1;33m==\u001b[0m \u001b[0mexpr\u001b[0m\u001b[1;33m\u001b[0m\u001b[0m\n\u001b[0m\u001b[0;32m    716\u001b[0m     \u001b[1;32mreturn\u001b[0m \u001b[0morder\u001b[0m\u001b[1;33m\u001b[0m\u001b[0m\n\u001b[0;32m    717\u001b[0m \u001b[1;33m\u001b[0m\u001b[0m\n",
      "\u001b[1;31mTypeError\u001b[0m: 'generator' object has no attribute '__getitem__'"
     ]
    }
   ],
   "source": [
    "best = fmin(\n",
    "    fn= objective_function_regression,\n",
    "    space= search_space_regression,\n",
    "    algo = tpe.suggest, # This is the optimization algorithm hyperopt uses, a tree of parzen estimators\n",
    "    max_evals = 100,\n",
    "    verbose = 2  # The number of iterations\n",
    "         )\n"
   ]
  },
  {
   "cell_type": "markdown",
   "metadata": {},
   "source": [
    "#### Hyperparameter Tunning (using different way)"
   ]
  },
  {
   "cell_type": "code",
   "execution_count": 128,
   "metadata": {},
   "outputs": [
    {
     "name": "stderr",
     "output_type": "stream",
     "text": [
      "D:\\Tools\\Anacoda2\\lib\\site-packages\\sklearn\\cross_validation.py:41: DeprecationWarning: This module was deprecated in version 0.18 in favor of the model_selection module into which all the refactored classes and functions are moved. Also note that the interface of the new CV iterators are different from that of this module. This module will be removed in 0.20.\n",
      "  \"This module will be removed in 0.20.\", DeprecationWarning)\n",
      "D:\\Tools\\Anacoda2\\lib\\site-packages\\sklearn\\grid_search.py:42: DeprecationWarning: This module was deprecated in version 0.18 in favor of the model_selection module into which all the refactored classes and functions are moved. This module will be removed in 0.20.\n",
      "  DeprecationWarning)\n"
     ]
    }
   ],
   "source": [
    "from sklearn.grid_search import GridSearchCV"
   ]
  },
  {
   "cell_type": "code",
   "execution_count": 143,
   "metadata": {},
   "outputs": [],
   "source": [
    "param_grid = {'learning_rate': [2, 1, 0.5, 0.1, 0.05, 0.02, 0.01],\n",
    "'max_depth': [3, 4, 5, 6, 7, 8]}"
   ]
  },
  {
   "cell_type": "code",
   "execution_count": 144,
   "metadata": {},
   "outputs": [],
   "source": [
    "est = GradientBoostingRegressor(n_estimators=3000)"
   ]
  },
  {
   "cell_type": "code",
   "execution_count": 145,
   "metadata": {},
   "outputs": [],
   "source": [
    "gs_cv = GridSearchCV(est, param_grid, n_jobs=4).fit(X, y)"
   ]
  },
  {
   "cell_type": "code",
   "execution_count": 146,
   "metadata": {},
   "outputs": [
    {
     "data": {
      "text/plain": [
       "{'learning_rate': 0.01, 'max_depth': 3, 'min_samples_leaf': 10}"
      ]
     },
     "execution_count": 146,
     "metadata": {},
     "output_type": "execute_result"
    }
   ],
   "source": [
    "gs_cv.best_params_ # Result : {'learning_rate': 0.01, 'max_depth': 3, 'min_samples_leaf': 10}"
   ]
  },
  {
   "cell_type": "code",
   "execution_count": 176,
   "metadata": {},
   "outputs": [],
   "source": [
    "model_tunning = GradientBoostingRegressor(n_estimators=100, learning_rate=1.5, max_depth=3, random_state=0)"
   ]
  },
  {
   "cell_type": "code",
   "execution_count": 177,
   "metadata": {},
   "outputs": [
    {
     "data": {
      "text/plain": [
       "GradientBoostingRegressor(alpha=0.9, criterion='friedman_mse', init=None,\n",
       "             learning_rate=1.5, loss='ls', max_depth=3, max_features=None,\n",
       "             max_leaf_nodes=None, min_impurity_decrease=0.0,\n",
       "             min_impurity_split=None, min_samples_leaf=1,\n",
       "             min_samples_split=2, min_weight_fraction_leaf=0.0,\n",
       "             n_estimators=100, presort='auto', random_state=0,\n",
       "             subsample=1.0, verbose=0, warm_start=False)"
      ]
     },
     "execution_count": 177,
     "metadata": {},
     "output_type": "execute_result"
    }
   ],
   "source": [
    "model_tunning.fit(X,y)"
   ]
  },
  {
   "cell_type": "code",
   "execution_count": 178,
   "metadata": {},
   "outputs": [],
   "source": [
    "predicted_tuning = model_tunning.predict(X_test)"
   ]
  },
  {
   "cell_type": "code",
   "execution_count": 181,
   "metadata": {},
   "outputs": [],
   "source": [
    "result_tuning = pd.DataFrame(predicted_tuning , columns=[\"MOD_VOLUME_CONSUMPTION\"])"
   ]
  },
  {
   "cell_type": "code",
   "execution_count": 180,
   "metadata": {},
   "outputs": [
    {
     "name": "stdout",
     "output_type": "stream",
     "text": [
      "[ 1.33677981e+05  1.62291628e+06  1.02610418e+05 -2.13377486e+03\n",
      "  1.74981506e+03  1.72131777e+05  1.18914659e+04  5.60722954e+04\n",
      " -2.76059976e+05  5.10102327e+05  2.81511297e+05  2.62589631e+05\n",
      "  2.31259808e+05  7.90102046e+04  2.95975285e+05  8.69356725e+04\n",
      "  1.64885304e+05  3.11769804e+05  2.14358358e+05  2.48095740e+05\n",
      "  2.69409578e+05  2.94437700e+05 -4.86511858e+05  8.77249168e+04\n",
      " -3.04828404e+04 -2.99069843e+04  6.59212310e+04  1.46651517e+05\n",
      "  1.12093587e+05  1.05960599e+05  5.00282982e+05  4.88151270e+05\n",
      "  5.22164285e+05  4.59850374e+05  4.79319723e+05  4.34369681e+05\n",
      "  4.73778548e+05  4.25002739e+05 -1.23897662e+05  4.23041731e+05\n",
      "  2.89800072e+05  3.42203926e+05  4.96845328e+05  4.62789544e+05\n",
      "  4.68580299e+05  6.94592503e+05 -3.87755332e+05  5.44459616e+04\n",
      "  3.93964126e+04  7.39016960e+04  1.29665774e+05 -4.28102510e+04\n",
      " -4.60039746e+04  7.80256038e+03  7.20252823e+05  1.23636974e+06\n",
      "  1.11554440e+06  1.90173858e+06  1.48174429e+06  1.30313457e+06\n",
      "  1.69794999e+06  1.83342487e+06  3.51345415e+05 -3.60097674e+05\n",
      "  1.47228250e+05  3.54185958e+05  2.33360612e+05 -4.40955119e+04\n",
      "  5.97869699e+04  3.74452083e+05  1.27104160e+05  3.11769804e+05\n",
      "  2.14358358e+05  2.48095740e+05  2.69409578e+05  2.94437700e+05\n",
      " -2.88020733e+05  1.64885304e+05  2.86842983e+05  1.65422825e+05\n",
      " -3.69457384e+05  9.70555766e+04  3.46535864e+04  1.10272346e+05\n",
      "  5.12144324e+03  2.77196943e+04  4.52871942e+03  7.85348527e+05\n",
      " -8.27170716e+04 -5.85871607e+05  1.27982173e+05 -6.51167104e+05\n",
      "  2.41034616e+05  7.01748307e+04 -3.59204822e+05 -1.97486955e+05\n",
      "  1.41654831e+05  1.94499937e+05  2.19458777e+05  1.79473648e+05\n",
      "  9.54824751e+04  1.78188555e+05  2.69835826e+05  3.51345415e+05\n",
      " -7.77388425e+04  9.23627153e+04  8.23726084e+04  4.16515305e+04\n",
      "  6.07168567e+04  3.64915037e+04  1.10861793e+05  4.52343521e+04\n",
      "  1.72691217e+05  2.27845515e+05  1.64256554e+05  1.46823150e+05\n",
      "  1.06951666e+05  1.65128435e+05  2.19929679e+05  1.47697787e+05\n",
      " -1.72823592e+05  1.88725944e+05  1.60314540e+05  4.83974617e+05\n",
      "  3.92827971e+04 -1.47134082e+04  8.39799669e+05  3.98013834e+04\n",
      "  1.23636974e+06  1.11554440e+06  7.20252823e+05  1.30313457e+06\n",
      "  1.83342487e+06  1.48174429e+06  1.90173858e+06  1.69794999e+06\n",
      "  1.12129207e+06  1.08454024e+06  9.27830689e+05  1.15235709e+06\n",
      "  9.93140275e+05  9.65618053e+05  1.11917098e+06  1.22190768e+06\n",
      "  1.19017146e+06  7.77619584e+04  5.25041495e+05  8.24664883e+05\n",
      "  6.92413638e+05  1.56413679e+05  7.11344093e+05  1.50466373e+05\n",
      "  2.52818497e+05  1.09079997e+06  2.03271916e+05  1.68727582e+05\n",
      "  4.67030618e+04  1.15764703e+05  2.40996552e+05  1.27981461e+05\n",
      "  1.64876719e+05 -3.19020900e+04  8.66303286e+04  2.30738062e+04\n",
      "  1.05197232e+05  1.45420985e+05  1.30371436e+05  1.13769417e+05\n",
      " -8.29858317e+04  1.20092893e+06  2.85641984e+05  6.81856557e+05\n",
      "  2.64358705e+06  1.05238649e+06  1.98145257e+06  2.12255206e+06\n",
      "  2.40666569e+06  2.49593676e+06  2.85604493e+06  2.73921058e+06\n",
      "  2.57513249e+05  1.03431541e+05  1.33182540e+05  2.82101481e+04\n",
      " -4.89290798e+03  1.29361075e+05  9.40851417e+04  6.08005544e+04\n",
      "  1.49423997e+05 -1.54379597e+05 -1.15218002e+05  1.38871698e+05\n",
      "  4.08587909e+04  7.39243382e+04  8.16587143e+04  8.13047733e+04\n",
      " -2.15469953e+05 -4.03556465e+05  1.40355099e+05 -7.99857255e+03\n",
      "  1.47162443e+06  1.40430724e+06  1.74497963e+06  3.66169254e+05\n",
      "  7.68497499e+05  4.05239294e+05  2.84413947e+05  4.99278694e+05\n",
      "  6.45667548e+05  1.83607865e+06  2.52190248e+06  1.45611667e+06\n",
      "  2.30047983e+06  3.01244135e+06  1.82952970e+06  1.81230171e+06\n",
      " -2.37763803e+05  1.44284210e+05  2.76541929e+05  2.59108524e+05\n",
      "  1.93757264e+05  2.37737152e+05  2.91168711e+05  2.27494646e+05\n",
      " -8.09179763e+04  4.51513106e+05  5.15315407e+05  3.94072881e+05\n",
      "  4.14544627e+05  5.93324854e+05  2.68254112e+05  3.80739052e+05\n",
      "  2.90683292e+05  7.06473666e+05  1.62775472e+05  5.75923630e+04\n",
      "  2.53057856e+05  1.68285208e+05  2.05800572e+05  6.87026191e+04\n",
      "  4.65916295e+05  1.18749830e+04  3.64167364e+05  1.05413962e+05\n",
      "  5.27319053e+05  6.99028817e+05  5.27096216e+05 -4.54629748e+05\n",
      "  5.27060679e+05  4.71079378e+05 -1.24518284e+04  3.98300095e+05\n",
      "  4.05629160e+05  5.09627275e+05  5.85590180e+05  5.39248220e+05\n",
      "  7.39585894e+05  8.62559272e+05  6.74775142e+05  7.76926943e+05\n",
      "  9.53976874e+05  8.31484697e+05  1.62282348e+06  9.78413309e+05\n",
      "  2.52190248e+06  1.45611667e+06  6.45667548e+05  2.30047983e+06\n",
      "  1.83607865e+06  1.81230171e+06  3.01244135e+06  1.82952970e+06\n",
      "  1.65500523e+06 -2.84357672e+04  1.22709357e+02 -8.21973783e+04\n",
      "  1.18056128e+05  1.31203142e+05  5.30567460e+04 -5.58867423e+04\n",
      "  5.83100575e+05  5.34292512e+05  4.93620638e+05  5.99411957e+05\n",
      "  6.87019385e+05  6.56779329e+05  5.33699789e+05  6.38280251e+05\n",
      "  1.22973608e+05  1.21453173e+05  2.47622002e+04  1.10481802e+05\n",
      " -9.57711167e+03  6.43094459e+04  6.25265730e+04 -1.01529678e+04\n",
      "  1.08809372e+06  4.33731787e+05  7.96806128e+05  1.01432593e+06\n",
      "  1.01189132e+06  3.39677040e+05  8.01978624e+05  9.12881899e+05\n",
      "  8.05162569e+05  4.53359615e+05  3.86864221e+05  4.17369954e+05\n",
      "  3.78948385e+05  4.84990561e+05  3.64165215e+05  3.99936550e+05\n",
      " -2.37763803e+05  1.44284210e+05  2.37737152e+05  2.27494646e+05\n",
      "  2.76541929e+05  1.93757264e+05  2.59108524e+05  2.91168711e+05\n",
      " -3.99127862e+04  5.94684532e+05  4.21744242e+05  3.22048263e+05\n",
      "  6.60320592e+04  4.85870825e+05  4.15904305e+05  1.47697787e+05\n",
      "  1.72691217e+05  2.27845515e+05  1.64256554e+05  1.65128435e+05\n",
      "  1.46823150e+05  1.06951666e+05  2.19929679e+05  2.56154192e+05\n",
      " -7.38011565e+04  2.20270893e+05  3.03332325e+05  3.15313466e+05\n",
      "  1.22119850e+06  1.74175079e+05  2.37616350e+05  1.23444706e+06\n",
      "  1.06108227e+06  1.00549092e+06  1.23857568e+06  1.10480575e+06\n",
      "  1.16396503e+06  1.41607253e+06  1.10152189e+06  5.61181683e+05\n",
      "  3.59387151e+05  3.59974100e+05  8.10827076e+05  3.28638671e+05\n",
      "  2.71192579e+05  4.59236893e+05  4.85348225e+05  2.36231598e+04\n",
      "  4.09780529e+05  4.62335671e+05  4.85280188e+05  3.36635566e+05\n",
      "  4.19181052e+05  4.89050330e+05  3.80129008e+05  5.34292512e+05\n",
      "  6.56779329e+05  6.38280251e+05  5.99411957e+05  4.93620638e+05\n",
      "  5.33699789e+05  6.87019385e+05  5.83100575e+05  5.33699789e+05\n",
      "  6.87019385e+05  5.99411957e+05  6.56779329e+05  4.93620638e+05\n",
      "  6.38280251e+05  5.83100575e+05  5.34292512e+05 -2.66657732e+04\n",
      "  8.50109437e+04 -1.94457542e+04  8.55266378e+04  1.69857002e+05\n",
      "  3.77672292e+04  1.60510602e+05 -3.56992252e+03  7.20252823e+05\n",
      "  1.23636974e+06  1.90173858e+06  1.48174429e+06  1.83342487e+06\n",
      "  1.11554440e+06  1.69794999e+06  1.30313457e+06  1.26602987e+04\n",
      "  1.13967311e+05  9.54682335e+04 -2.91423432e+05  1.04134461e+05\n",
      "  1.19426187e+05  1.03350837e+05  1.05048644e+04  1.49423997e+05\n",
      " -1.54379597e+05 -1.15218002e+05  1.38871698e+05  7.39243382e+04\n",
      "  4.08587909e+04  8.13047733e+04  8.16587143e+04 -9.58793246e+04\n",
      " -7.19623486e+04 -2.25415090e+04  6.35971745e+05  1.41510483e+05\n",
      " -8.27621415e+04  2.99290356e+02  1.50341838e+05  7.44548880e+05\n",
      "  4.82503809e+04  7.49112472e+05  7.55846101e+05  7.54505238e+05\n",
      "  8.29871262e+05  7.64940856e+05  7.82374260e+05 -1.76052356e+05\n",
      " -1.27614291e+05 -8.18293779e+04 -3.17909092e+05 -1.58210577e+04\n",
      " -1.29656330e+05  2.67801980e+03 -1.39892992e+05  6.45667548e+05\n",
      "  1.81230171e+06  2.52190248e+06  3.01244135e+06  2.30047983e+06\n",
      "  1.83607865e+06  1.82952970e+06  1.45611667e+06  3.51345415e+05\n",
      "  5.38360899e+04  8.60226659e+04 -3.41129079e+05  1.12737325e+05\n",
      "  3.81600234e+03  1.01072215e+05  5.44288138e+04  1.20527949e+05\n",
      "  4.62540316e+05  8.26687011e+04  2.37421008e+04 -1.03105477e+05\n",
      "  9.51624924e+04 -4.18913015e+04  5.18812286e+04  4.25355969e+04\n",
      " -2.43126516e+04  3.66471152e+04  8.69523292e+04  1.11600159e+05\n",
      "  7.41289150e+04  1.45788906e+05  5.07929660e+04  1.64287984e+05\n",
      " -2.43126516e+04  1.11600159e+05  8.69523292e+04  5.07929660e+04\n",
      "  3.66471152e+04  7.41289150e+04  1.64287984e+05  1.45788906e+05\n",
      "  6.54400633e+05  4.05518582e+04 -1.84559903e+04  1.14966378e+05\n",
      " -1.01517422e+05  4.16285624e+04  4.53631581e+04  5.41945133e+04\n",
      "  5.18283284e+05  4.42248594e+05  5.56084756e+05 -1.17064823e+05\n",
      "  4.87335651e+05  3.05852884e+05  4.76393464e+05  3.19551943e+05\n",
      "  5.18283284e+05 -1.17064823e+05  4.42248594e+05  5.56084756e+05\n",
      "  4.87335651e+05  3.05852884e+05  4.76393464e+05  3.19551943e+05\n",
      "  5.18283284e+05  4.42248594e+05  5.56084756e+05  4.87335651e+05\n",
      " -1.17064823e+05  3.05852884e+05  3.19551943e+05  4.76393464e+05\n",
      " -2.89814044e+05  4.88156177e+04  1.05743849e+05  1.42696867e+04\n",
      "  1.15576699e+05 -4.40303551e+04  4.69823764e+04 -7.51717373e+04\n",
      "  7.20252823e+05  1.11554440e+06  1.23636974e+06  1.30313457e+06\n",
      "  1.83342487e+06  1.69794999e+06  1.48174429e+06  1.90173858e+06]\n"
     ]
    }
   ],
   "source": [
    "print predicted_tuning"
   ]
  },
  {
   "cell_type": "code",
   "execution_count": 169,
   "metadata": {},
   "outputs": [
    {
     "name": "stdout",
     "output_type": "stream",
     "text": [
      "     MOD_VOLUME_CONSUMPTION\n",
      "0            -447290.288688\n",
      "1            -447290.288688\n",
      "2            -447290.288688\n",
      "3            -447290.288688\n",
      "4            -447290.288688\n",
      "5            -447290.288688\n",
      "6            -447290.288688\n",
      "7            -447290.288688\n",
      "8             397691.720224\n",
      "9             397691.720224\n",
      "10            397691.720224\n",
      "11            397691.720224\n",
      "12            397691.720224\n",
      "13            397691.720224\n",
      "14            397691.720224\n",
      "15            397691.720224\n",
      "16            334667.550198\n",
      "17            334667.550198\n",
      "18            334667.550198\n",
      "19            334667.550198\n",
      "20            334667.550198\n",
      "21            334667.550198\n",
      "22            287152.843949\n",
      "23            287152.843949\n",
      "24            287152.843949\n",
      "25            287152.843949\n",
      "26            287152.843949\n",
      "27            287152.843949\n",
      "28            287152.843949\n",
      "29            287152.843949\n",
      "..                      ...\n",
      "498           397691.720224\n",
      "499           397691.720224\n",
      "500           397691.720224\n",
      "501           397691.720224\n",
      "502           397691.720224\n",
      "503           397691.720224\n",
      "504           397691.720224\n",
      "505           397691.720224\n",
      "506           397691.720224\n",
      "507           397691.720224\n",
      "508           397691.720224\n",
      "509           397691.720224\n",
      "510           397691.720224\n",
      "511           397691.720224\n",
      "512           372057.659459\n",
      "513           372057.659459\n",
      "514           372057.659459\n",
      "515           372057.659459\n",
      "516           372057.659459\n",
      "517           372057.659459\n",
      "518           372057.659459\n",
      "519           372057.659459\n",
      "520           397691.720224\n",
      "521           397691.720224\n",
      "522           397691.720224\n",
      "523           397691.720224\n",
      "524           397691.720224\n",
      "525           397691.720224\n",
      "526           397691.720224\n",
      "527           397691.720224\n",
      "\n",
      "[528 rows x 1 columns]\n"
     ]
    }
   ],
   "source": [
    "print result_tuning"
   ]
  },
  {
   "cell_type": "code",
   "execution_count": 182,
   "metadata": {},
   "outputs": [],
   "source": [
    "result_tuning.to_csv(header = True, path_or_buf=\"result_tuning_GradientBoosting3.csv\", index = False)"
   ]
  }
 ],
 "metadata": {
  "kernelspec": {
   "display_name": "Python 2",
   "language": "python",
   "name": "python2"
  },
  "language_info": {
   "codemirror_mode": {
    "name": "ipython",
    "version": 2
   },
   "file_extension": ".py",
   "mimetype": "text/x-python",
   "name": "python",
   "nbconvert_exporter": "python",
   "pygments_lexer": "ipython2",
   "version": "2.7.14"
  }
 },
 "nbformat": 4,
 "nbformat_minor": 2
}
